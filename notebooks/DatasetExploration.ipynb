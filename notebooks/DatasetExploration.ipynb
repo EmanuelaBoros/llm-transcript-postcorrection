{
 "cells": [
  {
   "cell_type": "code",
   "execution_count": 15,
   "id": "cfadbdcd",
   "metadata": {},
   "outputs": [],
   "source": [
    "import pandas as pd\n",
    "import os\n",
    "import json"
   ]
  },
  {
   "cell_type": "code",
   "execution_count": 19,
   "id": "f79f14e7",
   "metadata": {},
   "outputs": [
    {
     "name": "stdout",
     "output_type": "stream",
     "text": [
      "../data/datasets/ocr/converted/overproof.jsonl\n",
      "../data/datasets/ocr/converted/impresso-nzz.jsonl\n",
      "                                            filename  \\\n",
      "0  ../../data/datasets/ocr/original/impresso-nzz/...   \n",
      "1  ../../data/datasets/ocr/original/impresso-nzz/...   \n",
      "2  ../../data/datasets/ocr/original/impresso-nzz/...   \n",
      "3  ../../data/datasets/ocr/original/impresso-nzz/...   \n",
      "4  ../../data/datasets/ocr/original/impresso-nzz/...   \n",
      "\n",
      "                                                 ocr  \\\n",
      "0  {'line': 'Züricher Zeitung. |', 'sentence': 'Z...   \n",
      "1  {'line': 'Freknkreich; (Unterwerfung einiger C...   \n",
      "2  {'line': 'Frankreich. Paris, 7 Pluv. (17 Jan.)...   \n",
      "3  {'line': 'General Hedouville meldet aus Angers...   \n",
      "4  {'line': 'fen Tcustaint, welchen der Chouanö-C...   \n",
      "\n",
      "                                         groundtruth  \n",
      "0  {'line': 'Züricher Zeitung.', 'sentence': 'Zür...  \n",
      "1  {'line': 'Frankreich; (Unterwerfung einiger Ch...  \n",
      "2  {'line': 'Frankreich. Paris, 7 Pluv. (27 Jan.)...  \n",
      "3  {'line': 'General Hedouville meldet aus Angers...  \n",
      "4  {'line': 'fen Toustaint, welchen der Chouans-C...  \n"
     ]
    }
   ],
   "source": [
    "for root, dirs, files in os.walk('../data/datasets/ocr/converted'):\n",
    "    for file in files:\n",
    "        if file.endswith(\".jsonl\"):\n",
    "            \n",
    "            input_file = os.path.join(root, file)\n",
    "            print(input_file)\n",
    "            if 'nzz' in input_file:\n",
    "                dataset = pd.read_json(input_file, lines=True)\n",
    "                print(dataset.head())\n",
    "                with open(input_file) as f:\n",
    "                    lines = f.read().splitlines()"
   ]
  },
  {
   "cell_type": "code",
   "execution_count": 21,
   "id": "dfb6267d",
   "metadata": {},
   "outputs": [
    {
     "data": {
      "text/html": [
       "<div>\n",
       "<style scoped>\n",
       "    .dataframe tbody tr th:only-of-type {\n",
       "        vertical-align: middle;\n",
       "    }\n",
       "\n",
       "    .dataframe tbody tr th {\n",
       "        vertical-align: top;\n",
       "    }\n",
       "\n",
       "    .dataframe thead th {\n",
       "        text-align: right;\n",
       "    }\n",
       "</style>\n",
       "<table border=\"1\" class=\"dataframe\">\n",
       "  <thead>\n",
       "    <tr style=\"text-align: right;\">\n",
       "      <th></th>\n",
       "      <th>filename</th>\n",
       "      <th>ocr.line</th>\n",
       "      <th>ocr.sentence</th>\n",
       "      <th>ocr.region</th>\n",
       "      <th>groundtruth.line</th>\n",
       "      <th>groundtruth.sentence</th>\n",
       "      <th>groundtruth.region</th>\n",
       "    </tr>\n",
       "  </thead>\n",
       "  <tbody>\n",
       "    <tr>\n",
       "      <th>0</th>\n",
       "      <td>../../data/datasets/ocr/original/impresso-nzz/...</td>\n",
       "      <td>Züricher Zeitung. |</td>\n",
       "      <td>Züricher Zeitung. |</td>\n",
       "      <td>Züricher Zeitung. |</td>\n",
       "      <td>Züricher Zeitung.</td>\n",
       "      <td>Züricher Zeitung.</td>\n",
       "      <td>Züricher Zeitung.</td>\n",
       "    </tr>\n",
       "    <tr>\n",
       "      <th>1</th>\n",
       "      <td>../../data/datasets/ocr/original/impresso-nzz/...</td>\n",
       "      <td>Freknkreich; (Unterwerfung einiger Chouans-Che...</td>\n",
       "      <td>Freknkreich; (Unterwerfung einiger Chouans-Che...</td>\n",
       "      <td>Freknkreich; (Unterwerfung einiger Chouans-Che...</td>\n",
       "      <td>Frankreich; (Unterwerfung einiger Chouans-Chef...</td>\n",
       "      <td>Frankreich; (Unterwerfung einiger Chouans-Chef...</td>\n",
       "      <td>Frankreich; (Unterwerfung einiger Chouans-Chef...</td>\n",
       "    </tr>\n",
       "    <tr>\n",
       "      <th>2</th>\n",
       "      <td>../../data/datasets/ocr/original/impresso-nzz/...</td>\n",
       "      <td>Frankreich. Paris, 7 Pluv. (17 Jan.)</td>\n",
       "      <td>Frankreich. Paris, 7 Pluv. (17 Jan.) Das Tribu...</td>\n",
       "      <td>Frankreich. Paris, 7 Pluv. (17 Jan.) Das Tribu...</td>\n",
       "      <td>Frankreich. Paris, 7 Pluv. (27 Jan.)</td>\n",
       "      <td>Frankreich. Paris, 7 Pluv. (27 Jan.) Das Tribu...</td>\n",
       "      <td>Frankreich. Paris, 7 Pluv. (27 Jan.) Das Tribu...</td>\n",
       "    </tr>\n",
       "    <tr>\n",
       "      <th>3</th>\n",
       "      <td>../../data/datasets/ocr/original/impresso-nzz/...</td>\n",
       "      <td>General Hedouville meldet aus Angers, daß auch</td>\n",
       "      <td>General Hedouville meldet aus Angers, daß auch...</td>\n",
       "      <td>General Hedouville meldet aus Angers, daß auch...</td>\n",
       "      <td>General Hedouville meldet aus Angers, daß auch</td>\n",
       "      <td>General Hedouville meldet aus Angers, daß auch...</td>\n",
       "      <td>General Hedouville meldet aus Angers, daß auch...</td>\n",
       "    </tr>\n",
       "    <tr>\n",
       "      <th>4</th>\n",
       "      <td>../../data/datasets/ocr/original/impresso-nzz/...</td>\n",
       "      <td>fen Tcustaint, welchen der Chouanö-Chef Charles</td>\n",
       "      <td>fen Tcustaint, welchen der Chouanö-Chef Charle...</td>\n",
       "      <td>fen Tcustaint, welchen der Chouanö-Chef Charle...</td>\n",
       "      <td>fen Toustaint, welchen der Chouans-Chef Charles</td>\n",
       "      <td>fen Toustaint, welchen der Chouans-Chef Charle...</td>\n",
       "      <td>fen Toustaint, welchen der Chouans-Chef Charle...</td>\n",
       "    </tr>\n",
       "  </tbody>\n",
       "</table>\n",
       "</div>"
      ],
      "text/plain": [
       "                                            filename  \\\n",
       "0  ../../data/datasets/ocr/original/impresso-nzz/...   \n",
       "1  ../../data/datasets/ocr/original/impresso-nzz/...   \n",
       "2  ../../data/datasets/ocr/original/impresso-nzz/...   \n",
       "3  ../../data/datasets/ocr/original/impresso-nzz/...   \n",
       "4  ../../data/datasets/ocr/original/impresso-nzz/...   \n",
       "\n",
       "                                            ocr.line  \\\n",
       "0                                Züricher Zeitung. |   \n",
       "1  Freknkreich; (Unterwerfung einiger Chouans-Che...   \n",
       "2               Frankreich. Paris, 7 Pluv. (17 Jan.)   \n",
       "3     General Hedouville meldet aus Angers, daß auch   \n",
       "4    fen Tcustaint, welchen der Chouanö-Chef Charles   \n",
       "\n",
       "                                        ocr.sentence  \\\n",
       "0                                Züricher Zeitung. |   \n",
       "1  Freknkreich; (Unterwerfung einiger Chouans-Che...   \n",
       "2  Frankreich. Paris, 7 Pluv. (17 Jan.) Das Tribu...   \n",
       "3  General Hedouville meldet aus Angers, daß auch...   \n",
       "4  fen Tcustaint, welchen der Chouanö-Chef Charle...   \n",
       "\n",
       "                                          ocr.region  \\\n",
       "0                                Züricher Zeitung. |   \n",
       "1  Freknkreich; (Unterwerfung einiger Chouans-Che...   \n",
       "2  Frankreich. Paris, 7 Pluv. (17 Jan.) Das Tribu...   \n",
       "3  General Hedouville meldet aus Angers, daß auch...   \n",
       "4  fen Tcustaint, welchen der Chouanö-Chef Charle...   \n",
       "\n",
       "                                    groundtruth.line  \\\n",
       "0                                  Züricher Zeitung.   \n",
       "1  Frankreich; (Unterwerfung einiger Chouans-Chef...   \n",
       "2               Frankreich. Paris, 7 Pluv. (27 Jan.)   \n",
       "3     General Hedouville meldet aus Angers, daß auch   \n",
       "4    fen Toustaint, welchen der Chouans-Chef Charles   \n",
       "\n",
       "                                groundtruth.sentence  \\\n",
       "0                                  Züricher Zeitung.   \n",
       "1  Frankreich; (Unterwerfung einiger Chouans-Chef...   \n",
       "2  Frankreich. Paris, 7 Pluv. (27 Jan.) Das Tribu...   \n",
       "3  General Hedouville meldet aus Angers, daß auch...   \n",
       "4  fen Toustaint, welchen der Chouans-Chef Charle...   \n",
       "\n",
       "                                  groundtruth.region  \n",
       "0                                  Züricher Zeitung.  \n",
       "1  Frankreich; (Unterwerfung einiger Chouans-Chef...  \n",
       "2  Frankreich. Paris, 7 Pluv. (27 Jan.) Das Tribu...  \n",
       "3  General Hedouville meldet aus Angers, daß auch...  \n",
       "4  fen Toustaint, welchen der Chouans-Chef Charle...  "
      ]
     },
     "execution_count": 21,
     "metadata": {},
     "output_type": "execute_result"
    }
   ],
   "source": [
    "df_inter = pd.DataFrame(lines)\n",
    "df_inter.columns = ['json_element']\n",
    "df_inter['json_element'].apply(json.loads)\n",
    "df_final = pd.json_normalize(df_inter['json_element'].apply(json.loads))\n",
    "\n",
    "df_final.head()"
   ]
  },
  {
   "cell_type": "code",
   "execution_count": 28,
   "id": "b0300ecb",
   "metadata": {},
   "outputs": [
    {
     "data": {
      "text/plain": [
       "['../../data/datasets/ocr/original/impresso-nzz/xml/NZZ_groundtruth/nzz_18000204_0_0_a1_p1_1.xml',\n",
       " 'Frankreich. Paris, 7 Pluv. (17 Jan.)',\n",
       " 'Frankreich. Paris, 7 Pluv. (17 Jan.) Das Tribunal hat nach einem zweimaligen Scratin Dupuy (Mitglied des National-Institutö ) zu sei nem Candidaten für den Erhaltunge - Senat er nannt. Im gesezgebcnden Rath erhielt noch nie mand die absolute Mehrheit; wohl aber erblikt man unter den in Vorschlag gebrachten Namen die Exdi- rektorrn Merlin, Revcilliere und Treilhard, dexen erster sogar zi Stimmen hatte.',\n",
       " 'Frankreich. Paris, 7 Pluv. (17 Jan.) Das Tribunal hat nach einem zweimaligen Scratin Dupuy (Mitglied des National-Institutö ) zu seinem Candidaten für den Erhaltunge - Senat ernannt. Im gesezgebcnden Rath erhielt noch niemand die absolute Mehrheit; wohl aber erblikt man unter den in Vorschlag gebrachten Namen die Exdi- rektorrn Merlin, Revcilliere und Treilhard, dexen erster sogar zi Stimmen hatte.',\n",
       " 'Frankreich. Paris, 7 Pluv. (27 Jan.)',\n",
       " 'Frankreich. Paris, 7 Pluv. (27 Jan.) Das Tribunal hat nach einem zweimaligen Scrutin Dupuy (Mitglied des National-Instituts ) zu sei nem Candidaten für den Erhaltungs-Senat er nannt. Im gesezgebenden Rath erhielt noch nie mand die absolute Mehrheit; wohl aber erblikt man unter den in Vorschlag gebrachten Namen die Exdi- rektoren Merlin, Reveilliere und Treilhard, deren erster sogar 31 Stimmen hatte.',\n",
       " 'Frankreich. Paris, 7 Pluv. (27 Jan.) Das Tribunal hat nach einem zweimaligen Scrutin Dupuy (Mitglied des National-Instituts ) zu seinem Candidaten für den Erhaltungs-Senat ernannt. Im gesezgebenden Rath erhielt noch niemand die absolute Mehrheit; wohl aber erblikt man unter den in Vorschlag gebrachten Namen die Exdi- rektoren Merlin, Reveilliere und Treilhard, deren erster sogar 31 Stimmen hatte.']"
      ]
     },
     "execution_count": 28,
     "metadata": {},
     "output_type": "execute_result"
    }
   ],
   "source": [
    "list(df_final.iloc[2])"
   ]
  },
  {
   "cell_type": "code",
   "execution_count": null,
   "id": "eb75e9ac",
   "metadata": {},
   "outputs": [],
   "source": []
  },
  {
   "cell_type": "code",
   "execution_count": null,
   "id": "0757da7c",
   "metadata": {},
   "outputs": [],
   "source": []
  },
  {
   "cell_type": "code",
   "execution_count": 5,
   "id": "25efa19f",
   "metadata": {},
   "outputs": [
    {
     "name": "stdout",
     "output_type": "stream",
     "text": [
      "                                            filename  \\\n",
      "0  ../../data/datasets/ocr/original/impresso-nzz/...   \n",
      "1  ../../data/datasets/ocr/original/impresso-nzz/...   \n",
      "2  ../../data/datasets/ocr/original/impresso-nzz/...   \n",
      "3  ../../data/datasets/ocr/original/impresso-nzz/...   \n",
      "4  ../../data/datasets/ocr/original/impresso-nzz/...   \n",
      "\n",
      "                                                 ocr  groundtruth  \n",
      "0                                Züricher Zeitung. |     Züricher  \n",
      "1  Freknkreich; (Unterwerfung einiger Chouans-Che...  Frankreich;  \n",
      "2               Frankreich. Paris, 7 Pluv. (17 Jan.)  Frankreich.  \n",
      "3     General Hedouville meldet aus Angers, daß auch      General  \n",
      "4    fen Tcustaint, welchen der Chouanö-Chef Charles          fen  \n"
     ]
    }
   ],
   "source": [
    "def unpack(x):\n",
    "    rv = []\n",
    "    for v in x:\n",
    "        if isinstance(v, dict):\n",
    "            rv.append([*v.values()][0])\n",
    "        else:\n",
    "            rv.append(v)\n",
    "    return rv\n",
    "\n",
    "dataset = dataset.apply(unpack)\n",
    "print(dataset.head())"
   ]
  },
  {
   "cell_type": "code",
   "execution_count": 6,
   "id": "ccee7a4a",
   "metadata": {},
   "outputs": [
    {
     "data": {
      "text/plain": [
       "Index(['filename', 'ocr', 'groundtruth'], dtype='object')"
      ]
     },
     "execution_count": 6,
     "metadata": {},
     "output_type": "execute_result"
    }
   ],
   "source": [
    "dataset.columns"
   ]
  },
  {
   "cell_type": "code",
   "execution_count": null,
   "id": "01acbb82",
   "metadata": {},
   "outputs": [],
   "source": []
  },
  {
   "cell_type": "code",
   "execution_count": null,
   "id": "a1704285",
   "metadata": {},
   "outputs": [],
   "source": []
  }
 ],
 "metadata": {
  "kernelspec": {
   "display_name": "Python 3 (ipykernel)",
   "language": "python",
   "name": "python3"
  },
  "language_info": {
   "codemirror_mode": {
    "name": "ipython",
    "version": 3
   },
   "file_extension": ".py",
   "mimetype": "text/x-python",
   "name": "python",
   "nbconvert_exporter": "python",
   "pygments_lexer": "ipython3",
   "version": "3.9.13"
  }
 },
 "nbformat": 4,
 "nbformat_minor": 5
}
