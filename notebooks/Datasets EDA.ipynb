{
 "cells": [
  {
   "cell_type": "code",
   "execution_count": 1,
   "id": "cfadbdcd",
   "metadata": {},
   "outputs": [],
   "source": [
    "import pandas as pd\n",
    "import os\n"
   ]
  },
  {
   "cell_type": "code",
   "execution_count": 9,
   "id": "f79f14e7",
   "metadata": {},
   "outputs": [
    {
     "name": "stdout",
     "output_type": "stream",
     "text": [
      "../data/datasets/ocr/converted/nzz_groundtruth.jsonl\n",
      "                                            filename  \\\n",
      "0  ../../data/datasets/ocr/original/impresso-nzz/...   \n",
      "1  ../../data/datasets/ocr/original/impresso-nzz/...   \n",
      "2  ../../data/datasets/ocr/original/impresso-nzz/...   \n",
      "3  ../../data/datasets/ocr/original/impresso-nzz/...   \n",
      "4  ../../data/datasets/ocr/original/impresso-nzz/...   \n",
      "\n",
      "                                                 ocr  \\\n",
      "0  {'line': 'Züricher Zeitung. |', 'sentence': 'Z...   \n",
      "1  {'line': 'Freknkreich; (Unterwerfung einiger C...   \n",
      "2  {'line': 'Frankreich. Paris, 7 Pluv. (17 Jan.)...   \n",
      "3  {'line': 'General Hedouville meldet aus Angers...   \n",
      "4  {'line': 'fen Tcustaint, welchen der Chouanö-C...   \n",
      "\n",
      "                                         groundtruth  \n",
      "0  {'line': 'Züricher', 'sentence': 'Züricher', '...  \n",
      "1  {'line': 'Frankreich;', 'sentence': 'Frankreic...  \n",
      "2  {'line': 'Frankreich.', 'sentence': 'Frankreic...  \n",
      "3  {'line': 'General', 'sentence': 'General die h...  \n",
      "4  {'line': 'fen', 'sentence': 'fen von fen, Krie...  \n",
      "../data/datasets/ocr/converted/icdar-2017.jsonl\n",
      "                                            filename  \\\n",
      "0  ../../data/datasets/ocr/original/icdar-2017/IC...   \n",
      "1  ../../data/datasets/ocr/original/icdar-2017/IC...   \n",
      "2  ../../data/datasets/ocr/original/icdar-2017/IC...   \n",
      "3  ../../data/datasets/ocr/original/icdar-2017/IC...   \n",
      "4  ../../data/datasets/ocr/original/icdar-2017/IC...   \n",
      "\n",
      "                                                 ocr  \\\n",
      "0  {'line': None, 'sentence': 'The price one penn...   \n",
      "1  {'line': None, 'sentence': 'Arrangements have ...   \n",
      "2  {'line': None, 'sentence': 'The POST will be o...   \n",
      "3  {'line': None, 'sentence': 'The price of the D...   \n",
      "4  {'line': None, 'sentence': '5d.', 'region': None}   \n",
      "\n",
      "                                         groundtruth                  File  \\\n",
      "0  {'line': None, 'sentence': 'The Birmingham Dai...  eng_periodical/8.txt   \n",
      "1  {'line': None, 'sentence': 'Arrangements have ...  eng_periodical/8.txt   \n",
      "2  {'line': None, 'sentence': 'The Post will be o...  eng_periodical/8.txt   \n",
      "3  {'line': None, 'sentence': 'The price of the D...  eng_periodical/8.txt   \n",
      "4  {'line': None, 'sentence': '5d.', 'region': None}  eng_periodical/8.txt   \n",
      "\n",
      "   Date        Type  NbAlignedChar  \n",
      "0  1857  periodical          49090  \n",
      "1  1857  periodical          49090  \n",
      "2  1857  periodical          49090  \n",
      "3  1857  periodical          49090  \n",
      "4  1857  periodical          49090  \n"
     ]
    }
   ],
   "source": [
    "for root, dirs, files in os.walk('../data/datasets/ocr/converted'):\n",
    "    for file in files:\n",
    "        if file.endswith(\".jsonl\"):\n",
    "            \n",
    "            input_file = os.path.join(root, file)\n",
    "            print(input_file)\n",
    "            \n",
    "            dataset = pd.read_json(input_file, lines=True)\n",
    "            print(dataset.head())"
   ]
  },
  {
   "cell_type": "code",
   "execution_count": null,
   "id": "dfb6267d",
   "metadata": {},
   "outputs": [],
   "source": []
  },
  {
   "cell_type": "code",
   "execution_count": null,
   "id": "25efa19f",
   "metadata": {},
   "outputs": [],
   "source": []
  },
  {
   "cell_type": "code",
   "execution_count": null,
   "id": "01acbb82",
   "metadata": {},
   "outputs": [],
   "source": []
  },
  {
   "cell_type": "code",
   "execution_count": null,
   "id": "a1704285",
   "metadata": {},
   "outputs": [],
   "source": []
  }
 ],
 "metadata": {
  "kernelspec": {
   "display_name": "Python 3 (ipykernel)",
   "language": "python",
   "name": "python3"
  },
  "language_info": {
   "codemirror_mode": {
    "name": "ipython",
    "version": 3
   },
   "file_extension": ".py",
   "mimetype": "text/x-python",
   "name": "python",
   "nbconvert_exporter": "python",
   "pygments_lexer": "ipython3",
   "version": "3.9.13"
  }
 },
 "nbformat": 4,
 "nbformat_minor": 5
}
