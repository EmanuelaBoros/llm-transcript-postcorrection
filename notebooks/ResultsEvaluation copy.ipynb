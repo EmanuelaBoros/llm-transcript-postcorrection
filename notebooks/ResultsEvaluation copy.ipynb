{
 "cells": [
  {
   "cell_type": "code",
   "execution_count": 2,
   "id": "cfadbdcd",
   "metadata": {},
   "outputs": [],
   "source": [
    "import pandas as pd\n",
    "import os\n",
    "import json\n",
    "# !pip install pywer\n",
    "import pywer\n",
    "# !pip install pyjarowinkler\n",
    "from pyjarowinkler import distance as jwdistance\n",
    "from tqdm import tqdm\n",
    "\n",
    "class Const:\n",
    "    OCR = 'ocr'\n",
    "    GROUND = 'groundtruth'\n",
    "    REGION = 'region'\n",
    "    LINE = 'line'\n",
    "    SENTENCE = 'sentence'\n",
    "    FILE = 'filename'\n",
    "    DATASET = 'dataset_name'\n",
    "    PREDICTION = 'prediction'\n",
    "    PROMPT = 'prompt'\n",
    "    LANGUAGE = 'language'\n",
    "    NONE = None\n"
   ]
  },
  {
   "cell_type": "markdown",
   "id": "118ead6e",
   "metadata": {},
   "source": [
    "### Lookup datasets"
   ]
  },
  {
   "cell_type": "code",
   "execution_count": 3,
   "id": "f79f14e7",
   "metadata": {},
   "outputs": [
    {
     "name": "stdout",
     "output_type": "stream",
     "text": [
      "../data/datasets/ocr/converted/ajmc-mixed/ajmc_mixed.jsonl ajmc-mixed\n",
      "../data/datasets/ocr/converted/overproof/overproof.jsonl overproof\n",
      "../data/datasets/ocr/converted/icdar-2019/icdar-2019.jsonl icdar-2019\n",
      "../data/datasets/ocr/converted/icdar-2017/icdar-2017.jsonl icdar-2017\n",
      "../data/datasets/ocr/converted/impresso/impresso-nzz.jsonl impresso\n",
      "../data/datasets/ocr/converted/ajmc-primary/ajmc_primary_text.jsonl ajmc-primary\n"
     ]
    }
   ],
   "source": [
    "datasets = []\n",
    "\n",
    "for root, dirs, files in os.walk('../data/datasets/ocr/converted'):\n",
    "    for file in files:\n",
    "        if file.endswith(\".jsonl\"):\n",
    "            input_file = os.path.join(root, file)\n",
    "            if 'sample' not in input_file:\n",
    "                with open(input_file) as f:\n",
    "                    lines = f.read().splitlines()\n",
    "                df_inter = pd.DataFrame(lines)\n",
    "                df_inter.columns = ['json_element']\n",
    "                df_inter['json_element'].apply(json.loads)\n",
    "                df = pd.json_normalize(df_inter['json_element'].apply(json.loads))\n",
    "\n",
    "                dataset_name = root.split('/')[-1].replace('_', '-')\n",
    "                print(input_file, dataset_name)\n",
    "                df['dataset_name'] = [dataset_name] * len(df)\n",
    "                if 'ajmc' in dataset_name:\n",
    "                    df['language'] = ['el'] * len(df)\n",
    "                if 'overproof' in dataset_name:\n",
    "                    df['language'] = ['en'] * len(df)\n",
    "                if 'impresso' in dataset_name:\n",
    "                    df['language'] = ['de'] * len(df)\n",
    "                    \n",
    "                datasets.append(df)\n",
    "            "
   ]
  },
  {
   "cell_type": "code",
   "execution_count": 3,
   "id": "58611ad0",
   "metadata": {},
   "outputs": [
    {
     "name": "stdout",
     "output_type": "stream",
     "text": [
      "Number of unique lines/sentences/regions.\n",
      "\n",
      "Dataset: ajmc-mixed 2131 with duplicates\n",
      "No. lines: 870 / 2131 No. sentences: 679 / 2131 No. regions: 63 / 2131\n",
      "--------------------------------------------------------------------------------\n",
      "Dataset: overproof 2669 with duplicates\n",
      "No. lines: 2278 / 2669 No. sentences: 399 / 2669 No. regions: 41 / 2669\n",
      "--------------------------------------------------------------------------------\n",
      "Dataset: icdar-2019 404 with duplicates\n",
      "No. lines: 0 / 404 No. sentences: 404 / 404 No. regions: 41 / 404\n",
      "--------------------------------------------------------------------------------\n",
      "Dataset: icdar-2017 477 with duplicates\n",
      "No. lines: 0 / 477 No. sentences: 461 / 477 No. regions: 28 / 477\n",
      "--------------------------------------------------------------------------------\n",
      "Dataset: impresso 1563 with duplicates\n",
      "No. lines: 1256 / 1563 No. sentences: 577 / 1563 No. regions: 203 / 1563\n",
      "--------------------------------------------------------------------------------\n",
      "Dataset: ajmc-primary 330 with duplicates\n",
      "No. lines: 151 / 330 No. sentences: 112 / 330 No. regions: 33 / 330\n",
      "--------------------------------------------------------------------------------\n"
     ]
    }
   ],
   "source": [
    "print('Number of unique lines/sentences/regions.\\n')\n",
    "for dataset in datasets:\n",
    "    print('Dataset:', dataset['dataset_name'].unique()[0], len(dataset), 'with duplicates')\n",
    "    print('No. lines:', dataset['ocr.line']. nunique(), '/', len(dataset['ocr.sentence']), \n",
    "          'No. sentences:', dataset['ocr.sentence']. nunique(), '/', len(dataset['ocr.sentence']), \n",
    "          'No. regions:', dataset['ocr.region']. nunique(), '/', len(dataset['ocr.region']))\n",
    "    print('-'*80)"
   ]
  },
  {
   "cell_type": "code",
   "execution_count": 4,
   "id": "d7e69fe5",
   "metadata": {},
   "outputs": [],
   "source": [
    "# GENERATE_SAMPLE = False\n",
    "\n",
    "# if GENERATE_SAMPLE:\n",
    "#     from sklearn.model_selection import train_test_split\n",
    "\n",
    "#     files_keep, files_removed, _, _ = train_test_split(dataset, dataset['dataset_name'], \n",
    "#                                                        test_size=0.90, random_state=42)\n",
    "    \n",
    "# if GENERATE_SAMPLE:\n",
    "#     output_file = '../data/datasets/ocr/converted/sample/sample.jsonl'\n",
    "#     with open(output_file, \"w\") as outfile:\n",
    "#         for index, row in files_keep.iterrows():\n",
    "\n",
    "#             json_line = json.dumps({Const.LANGUAGE: row['language'],\n",
    "#                                     Const.FILE: row['filename'],\n",
    "#                                     Const.DATASET: row['dataset_name'],\n",
    "#                                     Const.OCR: {Const.LINE: row['ocr.line'],\n",
    "#                                                 Const.SENTENCE: row['ocr.sentence'],\n",
    "#                                                 Const.REGION: row['ocr.region']}, \n",
    "#                                     Const.GROUND: {Const.LINE: row['groundtruth.line'],\n",
    "#                                                    Const.SENTENCE: row['groundtruth.sentence'],\n",
    "#                                                    Const.REGION: row['groundtruth.region']},\n",
    "#                                     'File': row['File'], \n",
    "#                                     'Date': row['Date'],\n",
    "#                                     'Type': row['Type'], \n",
    "#                                     'NbAlignedChar': row['NbAlignedChar'], \n",
    "#                                     'article_id': row['article_id']\n",
    "#                                     })\n",
    "\n",
    "#             outfile.write(json_line + \"\\n\")\n",
    "#             outfile.flush()\n",
    "            \n",
    "            "
   ]
  },
  {
   "cell_type": "markdown",
   "id": "9a0493b0",
   "metadata": {},
   "source": [
    "\n",
    "### Analsys of preliminary results"
   ]
  },
  {
   "cell_type": "code",
   "execution_count": 118,
   "id": "cff1950d",
   "metadata": {
    "scrolled": false
   },
   "outputs": [
    {
     "name": "stdout",
     "output_type": "stream",
     "text": [
      "Loading ..  overproof overproof gpt-4 prompt_basic_02\n",
      "Loading ..  overproof overproof gpt-3.5-turbo prompt_basic_02\n",
      "Loading ..  overproof overproof facebook-opt-350m prompt_basic_02\n",
      "We could not load results-overproof-decapoda-research-llama-7b-hf.jsonl\n",
      "Loading ..  overproof overproof bigscience-bloom-560m prompt_basic_02\n",
      "Loading ..  htrec htrec bigscience-bloom-560m prompt_basic_02\n",
      "Loading ..  htrec htrec facebook-opt-350m prompt_basic_02\n",
      "Loading ..  htrec htrec decapoda-research-llama-7b-hf prompt_basic_02\n",
      "Loading ..  ajmc_mixed ajmc-mixed decapoda-research-llama-7b-hf prompt_basic_02\n",
      "Loading ..  ajmc_mixed ajmc-mixed bigscience-bloom-560m prompt_basic_02\n",
      "Loading ..  ajmc_mixed ajmc-mixed facebook-opt-350m prompt_basic_02\n",
      "Loading ..  ajmc_mixed ajmc-mixed gpt-4 prompt_basic_02\n",
      "Loading ..  icdar-2019 icdar-2019 bigscience-bloom-560m prompt_basic_02\n",
      "Loading ..  icdar-2019 icdar-2019 decapoda-research-llama-7b-hf prompt_basic_02\n",
      "Loading ..  icdar-2019 icdar-2019 facebook-opt-350m prompt_basic_02\n",
      "Loading ..  icdar-2019 icdar-2019 gpt-4 prompt_basic_02\n",
      "Loading ..  icdar-2019 icdar-2019 gpt-3.5-turbo prompt_basic_02\n",
      "Loading ..  icdar-2017 icdar-2017 bigscience-bloom-560m prompt_basic_02\n",
      "Loading ..  icdar-2017 icdar-2017 gpt-4 prompt_basic_02\n",
      "Loading ..  icdar-2017 icdar-2017 facebook-opt-350m prompt_basic_02\n",
      "Loading ..  ajmc_primary_text ajmc-primary-text gpt-4 prompt_basic_02\n",
      "Loading ..  ajmc_primary_text ajmc-primary-text bigscience-bloom-560m prompt_basic_02\n",
      "Loading ..  ajmc_primary_text ajmc-primary-text facebook-opt-350m prompt_basic_02\n",
      "Loading ..  impresso-nzz impresso-nzz decapoda-research-llama-7b-hf prompt_complex_01\n",
      "Loading ..  impresso-nzz impresso-nzz bigscience-bloom-560m prompt_complex_01\n",
      "Loading ..  impresso-nzz impresso-nzz facebook-opt-350m prompt_complex_01\n",
      "Loading ..  impresso-nzz impresso-nzz gpt-4 prompt_complex_01\n",
      "Loading ..  impresso-nzz impresso-nzz gpt-3.5-turbo prompt_complex_01\n",
      "Loading ..  overproof overproof gpt-4 prompt_complex_01\n",
      "Loading ..  overproof overproof gpt-3.5-turbo prompt_complex_01\n",
      "Loading ..  overproof overproof facebook-opt-350m prompt_complex_01\n",
      "Loading ..  overproof overproof decapoda-research-llama-7b-hf prompt_complex_01\n",
      "Loading ..  overproof overproof bigscience-bloom-560m prompt_complex_01\n",
      "Loading ..  htrec htrec bigscience-bloom-560m prompt_complex_01\n",
      "Loading ..  htrec htrec facebook-opt-350m prompt_complex_01\n",
      "We could not load results-htrec-decapoda-research-llama-7b-hf.jsonl\n",
      "Loading ..  ajmc_mixed ajmc-mixed decapoda-research-llama-7b-hf prompt_complex_01\n",
      "Loading ..  ajmc_mixed ajmc-mixed bigscience-bloom-560m prompt_complex_01\n",
      "Loading ..  ajmc_mixed ajmc-mixed facebook-opt-350m prompt_complex_01\n",
      "Loading ..  ajmc_mixed ajmc-mixed gpt-4 prompt_complex_01\n",
      "Loading ..  icdar-2019 icdar-2019 bigscience-bloom-560m prompt_complex_01\n",
      "We could not load results-icdar-2019-decapoda-research-llama-7b-hf.jsonl\n",
      "Loading ..  icdar-2019 icdar-2019 facebook-opt-350m prompt_complex_01\n",
      "Loading ..  icdar-2019 icdar-2019 gpt-4 prompt_complex_01\n",
      "Loading ..  icdar-2019 icdar-2019 gpt-3.5-turbo prompt_complex_01\n",
      "Loading ..  icdar-2017 icdar-2017 bigscience-bloom-560m prompt_complex_01\n",
      "Loading ..  icdar-2017 icdar-2017 gpt-4 prompt_complex_01\n",
      "Loading ..  icdar-2017 icdar-2017 facebook-opt-350m prompt_complex_01\n",
      "Loading ..  ajmc_primary_text ajmc-primary-text gpt-4 prompt_complex_01\n",
      "Loading ..  ajmc_primary_text ajmc-primary-text bigscience-bloom-560m prompt_complex_01\n",
      "Loading ..  ajmc_primary_text ajmc-primary-text facebook-opt-350m prompt_complex_01\n",
      "Loading ..  impresso-nzz impresso-nzz decapoda-research-llama-7b-hf prompt_basic_01\n",
      "Loading ..  impresso-nzz impresso-nzz bigscience-bloom-560m prompt_basic_01\n",
      "Loading ..  impresso-nzz impresso-nzz facebook-opt-350m prompt_basic_01\n",
      "Loading ..  impresso-nzz impresso-nzz gpt-4 prompt_basic_01\n",
      "Loading ..  impresso-nzz impresso-nzz gpt-3.5-turbo prompt_basic_01\n",
      "Loading ..  overproof overproof davinci prompt_basic_01\n",
      "Loading ..  overproof overproof gpt-4 prompt_basic_01\n",
      "Loading ..  overproof overproof gpt-3.5-turbo prompt_basic_01\n",
      "Loading ..  overproof overproof gpt2 prompt_basic_01\n",
      "Loading ..  overproof overproof facebook-opt-350m prompt_basic_01\n",
      "Loading ..  overproof overproof tloen-alpaca-lora-7b prompt_basic_01\n",
      "Loading ..  overproof overproof decapoda-research-llama-7b-hf prompt_basic_01\n",
      "Loading ..  overproof overproof bigscience-bloom-560m prompt_basic_01\n",
      "Loading ..  htrec htrec gpt-4 prompt_basic_01\n",
      "Loading ..  htrec htrec tloen-alpaca-lora-7b prompt_basic_01\n",
      "Loading ..  htrec htrec bigscience-bloom-560m prompt_basic_01\n",
      "Loading ..  htrec htrec facebook-opt-350m prompt_basic_01\n",
      "Loading ..  htrec htrec gpt-3.5-turbo prompt_basic_01\n",
      "Loading ..  htrec htrec davinci prompt_basic_01\n",
      "Loading ..  htrec htrec gpt2 prompt_basic_01\n",
      "Loading ..  htrec htrec decapoda-research-llama-7b-hf prompt_basic_01\n",
      "Loading ..  ajmc_mixed ajmc-mixed tloen-alpaca-lora-7b prompt_basic_01\n",
      "Loading ..  ajmc_mixed ajmc-mixed decapoda-research-llama-7b-hf prompt_basic_01\n",
      "Loading ..  ajmc_mixed ajmc-mixed bigscience-bloom-560m prompt_basic_01\n",
      "Loading ..  ajmc_mixed ajmc-mixed gpt2 prompt_basic_01\n",
      "Loading ..  ajmc_mixed ajmc-mixed facebook-opt-350m prompt_basic_01\n",
      "Loading ..  ajmc_mixed ajmc-mixed gpt-4 prompt_basic_01\n",
      "Loading ..  ajmc_mixed ajmc-mixed davinci prompt_basic_01\n",
      "Loading ..  ajmc_mixed ajmc-mixed gpt-3.5-turbo prompt_basic_01\n",
      "Loading ..  icdar-2019 icdar-2019 gpt2 prompt_basic_01\n",
      "Loading ..  icdar-2019 icdar-2019 bigscience-bloom-560m prompt_basic_01\n",
      "Loading ..  icdar-2019 icdar-2019 decapoda-research-llama-7b-hf prompt_basic_01\n",
      "Loading ..  icdar-2019 icdar-2019 facebook-opt-350m prompt_basic_01\n",
      "Loading ..  icdar-2019 icdar-2019 gpt-4 prompt_basic_01\n",
      "Loading ..  icdar-2019 icdar-2019 gpt-3.5-turbo prompt_basic_01\n",
      "Loading ..  icdar-2019 icdar-2019 davinci prompt_basic_01\n",
      "Loading ..  icdar-2019 icdar-2019 tloen-alpaca-lora-7b prompt_basic_01\n",
      "Loading ..  icdar-2017 icdar-2017 bigscience-bloom-560m prompt_basic_01\n",
      "Loading ..  icdar-2017 icdar-2017 gpt-4 prompt_basic_01\n",
      "Loading ..  icdar-2017 icdar-2017 decapoda-research-llama-7b-hf prompt_basic_01\n",
      "Loading ..  icdar-2017 icdar-2017 davinci prompt_basic_01\n",
      "Loading ..  icdar-2017 icdar-2017 facebook-opt-350m prompt_basic_01\n",
      "Loading ..  icdar-2017 icdar-2017 gpt2 prompt_basic_01\n",
      "Loading ..  icdar-2017 icdar-2017 gpt-3.5-turbo prompt_basic_01\n",
      "Loading ..  ajmc_primary_text ajmc-primary-text gpt-4 prompt_basic_01\n",
      "Loading ..  ajmc_primary_text ajmc-primary-text bigscience-bloom-560m prompt_basic_01\n",
      "Loading ..  ajmc_primary_text ajmc-primary-text decapoda-research-llama-7b-hf prompt_basic_01\n",
      "Loading ..  ajmc_primary_text ajmc-primary-text davinci prompt_basic_01\n",
      "Loading ..  ajmc_primary_text ajmc-primary-text facebook-opt-350m prompt_basic_01\n",
      "Loading ..  ajmc_primary_text ajmc-primary-text gpt2 prompt_basic_01\n",
      "Loading ..  ajmc_primary_text ajmc-primary-text gpt-3.5-turbo prompt_basic_01\n"
     ]
    }
   ],
   "source": [
    "results = []\n",
    "\n",
    "for root, dirs, files in os.walk('../data/output'):\n",
    "    for file in files:\n",
    "        if file.endswith(\".jsonl\"):\n",
    "            input_file = os.path.join(root, file)\n",
    "            \n",
    "            if 'sample' not in input_file:\n",
    "                prompt = root.split('/')[-2]\n",
    "                with open(input_file) as f:\n",
    "                    lines = f.read().splitlines()\n",
    "                try:\n",
    "                    df_inter = pd.DataFrame(lines)\n",
    "                    df_inter.columns = ['json_element']\n",
    "\n",
    "                    dataset_name = root.split('/')[-1].replace('_', '-')\n",
    "                    model_dataset_name = file[8:-6]\n",
    "                    model_name = model_dataset_name.replace(root.split('/')[-1] + '-', '').strip()\n",
    "                    \n",
    "                    df_inter['json_element'].apply(json.loads)\n",
    "                    df = pd.json_normalize(df_inter['json_element'].apply(json.loads))\n",
    "                    \n",
    "                    df['model'] = [model_name] * len(df)\n",
    "                    \n",
    "                    df['dataset_name'] = [dataset_name] * len(df)\n",
    "                    df['prompt'] = [prompt] * len(df)\n",
    "                    \n",
    "                    print('Loading .. ', root.split('/')[-1], dataset_name, model_name, prompt)\n",
    "#                     print(model_name)\n",
    "                    results.append(df)\n",
    "                except:\n",
    "                    print('We could not load {}'.format(file))\n",
    "                    "
   ]
  },
  {
   "cell_type": "code",
   "execution_count": 5,
   "id": "91f6ef94",
   "metadata": {},
   "outputs": [
    {
     "data": {
      "text/plain": [
       "99"
      ]
     },
     "execution_count": 5,
     "metadata": {},
     "output_type": "execute_result"
    }
   ],
   "source": [
    "len(results)"
   ]
  },
  {
   "cell_type": "code",
   "execution_count": null,
   "id": "893a86b5",
   "metadata": {},
   "outputs": [],
   "source": []
  },
  {
   "cell_type": "code",
   "execution_count": 6,
   "id": "ea001bec",
   "metadata": {},
   "outputs": [
    {
     "data": {
      "text/html": [
       "<div>\n",
       "<style scoped>\n",
       "    .dataframe tbody tr th:only-of-type {\n",
       "        vertical-align: middle;\n",
       "    }\n",
       "\n",
       "    .dataframe tbody tr th {\n",
       "        vertical-align: top;\n",
       "    }\n",
       "\n",
       "    .dataframe thead th {\n",
       "        text-align: right;\n",
       "    }\n",
       "</style>\n",
       "<table border=\"1\" class=\"dataframe\">\n",
       "  <thead>\n",
       "    <tr style=\"text-align: right;\">\n",
       "      <th></th>\n",
       "      <th>filename</th>\n",
       "      <th>dataset_name</th>\n",
       "      <th>article_id</th>\n",
       "      <th>ocr.line</th>\n",
       "      <th>ocr.sentence</th>\n",
       "      <th>ocr.region</th>\n",
       "      <th>groundtruth.line</th>\n",
       "      <th>groundtruth.sentence</th>\n",
       "      <th>groundtruth.region</th>\n",
       "      <th>prediction.prompt</th>\n",
       "      <th>prediction.line</th>\n",
       "      <th>prediction.sentence</th>\n",
       "      <th>prediction.region</th>\n",
       "      <th>model</th>\n",
       "      <th>prompt</th>\n",
       "    </tr>\n",
       "  </thead>\n",
       "  <tbody>\n",
       "    <tr>\n",
       "      <th>0</th>\n",
       "      <td>../../data/datasets/ocr/original/overproof/dat...</td>\n",
       "      <td>overproof</td>\n",
       "      <td>7 year 1922 type Article title http://chronicl...</td>\n",
       "      <td>RAIDERS IN</td>\n",
       "      <td>RAIDERS IN FREDERICK LAND HAUL OF $84,000 Watc...</td>\n",
       "      <td>RAIDERS IN FREDERICK LAND HAUL OF $84,000 Watc...</td>\n",
       "      <td>RAIDERS IN</td>\n",
       "      <td>RAIDERS IN FREDER IC K LAND HAUL OF $84,000 Wa...</td>\n",
       "      <td>RAIDERS IN FREDER IC K LAND HAUL OF $84,000 Wa...</td>\n",
       "      <td>Correct the spelling and grammar of the follow...</td>\n",
       "      <td>Raiders Inc.</td>\n",
       "      <td>Raiders in Frederick Land Haul of $84,000: Wat...</td>\n",
       "      <td>Raiders in Frederick Land Haul of $84,000\\n\\nW...</td>\n",
       "      <td>gpt-4</td>\n",
       "      <td>prompt_basic_02</td>\n",
       "    </tr>\n",
       "    <tr>\n",
       "      <th>1</th>\n",
       "      <td>../../data/datasets/ocr/original/overproof/dat...</td>\n",
       "      <td>overproof</td>\n",
       "      <td>7 year 1922 type Article title http://chronicl...</td>\n",
       "      <td>FREDERICK</td>\n",
       "      <td>RAIDERS IN FREDERICK LAND HAUL OF $84,000 Watc...</td>\n",
       "      <td>RAIDERS IN FREDERICK LAND HAUL OF $84,000 Watc...</td>\n",
       "      <td>FREDER IC K</td>\n",
       "      <td>RAIDERS IN FREDER IC K LAND HAUL OF $84,000 Wa...</td>\n",
       "      <td>RAIDERS IN FREDER IC K LAND HAUL OF $84,000 Wa...</td>\n",
       "      <td>Correct the spelling and grammar of the follow...</td>\n",
       "      <td>Frederick</td>\n",
       "      <td>Raiders in Frederick Land Haul of $84,000: Wat...</td>\n",
       "      <td>Raiders in Frederick Land Haul of $84,000\\n\\nW...</td>\n",
       "      <td>gpt-4</td>\n",
       "      <td>prompt_basic_02</td>\n",
       "    </tr>\n",
       "    <tr>\n",
       "      <th>2</th>\n",
       "      <td>../../data/datasets/ocr/original/overproof/dat...</td>\n",
       "      <td>overproof</td>\n",
       "      <td>7 year 1922 type Article title http://chronicl...</td>\n",
       "      <td>LAND HAUL</td>\n",
       "      <td>RAIDERS IN FREDERICK LAND HAUL OF $84,000 Watc...</td>\n",
       "      <td>RAIDERS IN FREDERICK LAND HAUL OF $84,000 Watc...</td>\n",
       "      <td>LAND HAUL</td>\n",
       "      <td>RAIDERS IN FREDER IC K LAND HAUL OF $84,000 Wa...</td>\n",
       "      <td>RAIDERS IN FREDER IC K LAND HAUL OF $84,000 Wa...</td>\n",
       "      <td>Correct the spelling and grammar of the follow...</td>\n",
       "      <td>Land Haul</td>\n",
       "      <td>Raiders in Frederick Land Haul of $84,000: Wat...</td>\n",
       "      <td>Raiders in Frederick Land Haul of $84,000\\n\\nW...</td>\n",
       "      <td>gpt-4</td>\n",
       "      <td>prompt_basic_02</td>\n",
       "    </tr>\n",
       "    <tr>\n",
       "      <th>3</th>\n",
       "      <td>../../data/datasets/ocr/original/overproof/dat...</td>\n",
       "      <td>overproof</td>\n",
       "      <td>7 year 1922 type Article title http://chronicl...</td>\n",
       "      <td>OF $84,000</td>\n",
       "      <td>RAIDERS IN FREDERICK LAND HAUL OF $84,000 Watc...</td>\n",
       "      <td>RAIDERS IN FREDERICK LAND HAUL OF $84,000 Watc...</td>\n",
       "      <td>OF $84,000</td>\n",
       "      <td>RAIDERS IN FREDER IC K LAND HAUL OF $84,000 Wa...</td>\n",
       "      <td>RAIDERS IN FREDER IC K LAND HAUL OF $84,000 Wa...</td>\n",
       "      <td>Correct the spelling and grammar of the follow...</td>\n",
       "      <td>Of $84,000</td>\n",
       "      <td>Raiders in Frederick Land Haul of $84,000: Wat...</td>\n",
       "      <td>Raiders in Frederick Land Haul of $84,000\\n\\nW...</td>\n",
       "      <td>gpt-4</td>\n",
       "      <td>prompt_basic_02</td>\n",
       "    </tr>\n",
       "    <tr>\n",
       "      <th>4</th>\n",
       "      <td>../../data/datasets/ocr/original/overproof/dat...</td>\n",
       "      <td>overproof</td>\n",
       "      <td>7 year 1922 type Article title http://chronicl...</td>\n",
       "      <td>Watchman Bound and Gagged</td>\n",
       "      <td>RAIDERS IN FREDERICK LAND HAUL OF $84,000 Watc...</td>\n",
       "      <td>RAIDERS IN FREDERICK LAND HAUL OF $84,000 Watc...</td>\n",
       "      <td>Watchman Bound and Gagged</td>\n",
       "      <td>RAIDERS IN FREDER IC K LAND HAUL OF $84,000 Wa...</td>\n",
       "      <td>RAIDERS IN FREDER IC K LAND HAUL OF $84,000 Wa...</td>\n",
       "      <td>Correct the spelling and grammar of the follow...</td>\n",
       "      <td>Watchman Bound and Gagged</td>\n",
       "      <td>Raiders in Frederick Land Haul of $84,000: Wat...</td>\n",
       "      <td>Raiders in Frederick Land Haul of $84,000\\n\\nW...</td>\n",
       "      <td>gpt-4</td>\n",
       "      <td>prompt_basic_02</td>\n",
       "    </tr>\n",
       "  </tbody>\n",
       "</table>\n",
       "</div>"
      ],
      "text/plain": [
       "                                            filename dataset_name   \n",
       "0  ../../data/datasets/ocr/original/overproof/dat...    overproof  \\\n",
       "1  ../../data/datasets/ocr/original/overproof/dat...    overproof   \n",
       "2  ../../data/datasets/ocr/original/overproof/dat...    overproof   \n",
       "3  ../../data/datasets/ocr/original/overproof/dat...    overproof   \n",
       "4  ../../data/datasets/ocr/original/overproof/dat...    overproof   \n",
       "\n",
       "                                          article_id   \n",
       "0  7 year 1922 type Article title http://chronicl...  \\\n",
       "1  7 year 1922 type Article title http://chronicl...   \n",
       "2  7 year 1922 type Article title http://chronicl...   \n",
       "3  7 year 1922 type Article title http://chronicl...   \n",
       "4  7 year 1922 type Article title http://chronicl...   \n",
       "\n",
       "                    ocr.line   \n",
       "0                 RAIDERS IN  \\\n",
       "1                  FREDERICK   \n",
       "2                  LAND HAUL   \n",
       "3                 OF $84,000   \n",
       "4  Watchman Bound and Gagged   \n",
       "\n",
       "                                        ocr.sentence   \n",
       "0  RAIDERS IN FREDERICK LAND HAUL OF $84,000 Watc...  \\\n",
       "1  RAIDERS IN FREDERICK LAND HAUL OF $84,000 Watc...   \n",
       "2  RAIDERS IN FREDERICK LAND HAUL OF $84,000 Watc...   \n",
       "3  RAIDERS IN FREDERICK LAND HAUL OF $84,000 Watc...   \n",
       "4  RAIDERS IN FREDERICK LAND HAUL OF $84,000 Watc...   \n",
       "\n",
       "                                          ocr.region   \n",
       "0  RAIDERS IN FREDERICK LAND HAUL OF $84,000 Watc...  \\\n",
       "1  RAIDERS IN FREDERICK LAND HAUL OF $84,000 Watc...   \n",
       "2  RAIDERS IN FREDERICK LAND HAUL OF $84,000 Watc...   \n",
       "3  RAIDERS IN FREDERICK LAND HAUL OF $84,000 Watc...   \n",
       "4  RAIDERS IN FREDERICK LAND HAUL OF $84,000 Watc...   \n",
       "\n",
       "            groundtruth.line   \n",
       "0                 RAIDERS IN  \\\n",
       "1                FREDER IC K   \n",
       "2                  LAND HAUL   \n",
       "3                 OF $84,000   \n",
       "4  Watchman Bound and Gagged   \n",
       "\n",
       "                                groundtruth.sentence   \n",
       "0  RAIDERS IN FREDER IC K LAND HAUL OF $84,000 Wa...  \\\n",
       "1  RAIDERS IN FREDER IC K LAND HAUL OF $84,000 Wa...   \n",
       "2  RAIDERS IN FREDER IC K LAND HAUL OF $84,000 Wa...   \n",
       "3  RAIDERS IN FREDER IC K LAND HAUL OF $84,000 Wa...   \n",
       "4  RAIDERS IN FREDER IC K LAND HAUL OF $84,000 Wa...   \n",
       "\n",
       "                                  groundtruth.region   \n",
       "0  RAIDERS IN FREDER IC K LAND HAUL OF $84,000 Wa...  \\\n",
       "1  RAIDERS IN FREDER IC K LAND HAUL OF $84,000 Wa...   \n",
       "2  RAIDERS IN FREDER IC K LAND HAUL OF $84,000 Wa...   \n",
       "3  RAIDERS IN FREDER IC K LAND HAUL OF $84,000 Wa...   \n",
       "4  RAIDERS IN FREDER IC K LAND HAUL OF $84,000 Wa...   \n",
       "\n",
       "                                   prediction.prompt   \n",
       "0  Correct the spelling and grammar of the follow...  \\\n",
       "1  Correct the spelling and grammar of the follow...   \n",
       "2  Correct the spelling and grammar of the follow...   \n",
       "3  Correct the spelling and grammar of the follow...   \n",
       "4  Correct the spelling and grammar of the follow...   \n",
       "\n",
       "             prediction.line   \n",
       "0               Raiders Inc.  \\\n",
       "1                  Frederick   \n",
       "2                  Land Haul   \n",
       "3                 Of $84,000   \n",
       "4  Watchman Bound and Gagged   \n",
       "\n",
       "                                 prediction.sentence   \n",
       "0  Raiders in Frederick Land Haul of $84,000: Wat...  \\\n",
       "1  Raiders in Frederick Land Haul of $84,000: Wat...   \n",
       "2  Raiders in Frederick Land Haul of $84,000: Wat...   \n",
       "3  Raiders in Frederick Land Haul of $84,000: Wat...   \n",
       "4  Raiders in Frederick Land Haul of $84,000: Wat...   \n",
       "\n",
       "                                   prediction.region  model           prompt  \n",
       "0  Raiders in Frederick Land Haul of $84,000\\n\\nW...  gpt-4  prompt_basic_02  \n",
       "1  Raiders in Frederick Land Haul of $84,000\\n\\nW...  gpt-4  prompt_basic_02  \n",
       "2  Raiders in Frederick Land Haul of $84,000\\n\\nW...  gpt-4  prompt_basic_02  \n",
       "3  Raiders in Frederick Land Haul of $84,000\\n\\nW...  gpt-4  prompt_basic_02  \n",
       "4  Raiders in Frederick Land Haul of $84,000\\n\\nW...  gpt-4  prompt_basic_02  "
      ]
     },
     "execution_count": 6,
     "metadata": {},
     "output_type": "execute_result"
    }
   ],
   "source": [
    "results[0].head()"
   ]
  },
  {
   "cell_type": "code",
   "execution_count": 7,
   "id": "b04e2574",
   "metadata": {},
   "outputs": [
    {
     "data": {
      "text/html": [
       "<div>\n",
       "<style scoped>\n",
       "    .dataframe tbody tr th:only-of-type {\n",
       "        vertical-align: middle;\n",
       "    }\n",
       "\n",
       "    .dataframe tbody tr th {\n",
       "        vertical-align: top;\n",
       "    }\n",
       "\n",
       "    .dataframe thead th {\n",
       "        text-align: right;\n",
       "    }\n",
       "</style>\n",
       "<table border=\"1\" class=\"dataframe\">\n",
       "  <thead>\n",
       "    <tr style=\"text-align: right;\">\n",
       "      <th></th>\n",
       "      <th>filename</th>\n",
       "      <th>dataset_name</th>\n",
       "      <th>article_id</th>\n",
       "      <th>ocr.line</th>\n",
       "      <th>ocr.sentence</th>\n",
       "      <th>ocr.region</th>\n",
       "      <th>groundtruth.line</th>\n",
       "      <th>groundtruth.sentence</th>\n",
       "      <th>groundtruth.region</th>\n",
       "      <th>prediction.prompt</th>\n",
       "      <th>...</th>\n",
       "      <th>prediction.sentence</th>\n",
       "      <th>prediction.region</th>\n",
       "      <th>model</th>\n",
       "      <th>prompt</th>\n",
       "      <th>century</th>\n",
       "      <th>language</th>\n",
       "      <th>File</th>\n",
       "      <th>Date</th>\n",
       "      <th>Type</th>\n",
       "      <th>NbAlignedChar</th>\n",
       "    </tr>\n",
       "  </thead>\n",
       "  <tbody>\n",
       "    <tr>\n",
       "      <th>0</th>\n",
       "      <td>../../data/datasets/ocr/original/overproof/dat...</td>\n",
       "      <td>overproof</td>\n",
       "      <td>7 year 1922 type Article title http://chronicl...</td>\n",
       "      <td>RAIDERS IN</td>\n",
       "      <td>RAIDERS IN FREDERICK LAND HAUL OF $84,000 Watc...</td>\n",
       "      <td>RAIDERS IN FREDERICK LAND HAUL OF $84,000 Watc...</td>\n",
       "      <td>RAIDERS IN</td>\n",
       "      <td>RAIDERS IN FREDER IC K LAND HAUL OF $84,000 Wa...</td>\n",
       "      <td>RAIDERS IN FREDER IC K LAND HAUL OF $84,000 Wa...</td>\n",
       "      <td>Correct the spelling and grammar of the follow...</td>\n",
       "      <td>...</td>\n",
       "      <td>Raiders in Frederick Land Haul of $84,000: Wat...</td>\n",
       "      <td>Raiders in Frederick Land Haul of $84,000\\n\\nW...</td>\n",
       "      <td>gpt-4</td>\n",
       "      <td>prompt_basic_02</td>\n",
       "      <td>NaN</td>\n",
       "      <td>NaN</td>\n",
       "      <td>NaN</td>\n",
       "      <td>NaN</td>\n",
       "      <td>NaN</td>\n",
       "      <td>NaN</td>\n",
       "    </tr>\n",
       "    <tr>\n",
       "      <th>1</th>\n",
       "      <td>../../data/datasets/ocr/original/overproof/dat...</td>\n",
       "      <td>overproof</td>\n",
       "      <td>7 year 1922 type Article title http://chronicl...</td>\n",
       "      <td>FREDERICK</td>\n",
       "      <td>RAIDERS IN FREDERICK LAND HAUL OF $84,000 Watc...</td>\n",
       "      <td>RAIDERS IN FREDERICK LAND HAUL OF $84,000 Watc...</td>\n",
       "      <td>FREDER IC K</td>\n",
       "      <td>RAIDERS IN FREDER IC K LAND HAUL OF $84,000 Wa...</td>\n",
       "      <td>RAIDERS IN FREDER IC K LAND HAUL OF $84,000 Wa...</td>\n",
       "      <td>Correct the spelling and grammar of the follow...</td>\n",
       "      <td>...</td>\n",
       "      <td>Raiders in Frederick Land Haul of $84,000: Wat...</td>\n",
       "      <td>Raiders in Frederick Land Haul of $84,000\\n\\nW...</td>\n",
       "      <td>gpt-4</td>\n",
       "      <td>prompt_basic_02</td>\n",
       "      <td>NaN</td>\n",
       "      <td>NaN</td>\n",
       "      <td>NaN</td>\n",
       "      <td>NaN</td>\n",
       "      <td>NaN</td>\n",
       "      <td>NaN</td>\n",
       "    </tr>\n",
       "    <tr>\n",
       "      <th>2</th>\n",
       "      <td>../../data/datasets/ocr/original/overproof/dat...</td>\n",
       "      <td>overproof</td>\n",
       "      <td>7 year 1922 type Article title http://chronicl...</td>\n",
       "      <td>LAND HAUL</td>\n",
       "      <td>RAIDERS IN FREDERICK LAND HAUL OF $84,000 Watc...</td>\n",
       "      <td>RAIDERS IN FREDERICK LAND HAUL OF $84,000 Watc...</td>\n",
       "      <td>LAND HAUL</td>\n",
       "      <td>RAIDERS IN FREDER IC K LAND HAUL OF $84,000 Wa...</td>\n",
       "      <td>RAIDERS IN FREDER IC K LAND HAUL OF $84,000 Wa...</td>\n",
       "      <td>Correct the spelling and grammar of the follow...</td>\n",
       "      <td>...</td>\n",
       "      <td>Raiders in Frederick Land Haul of $84,000: Wat...</td>\n",
       "      <td>Raiders in Frederick Land Haul of $84,000\\n\\nW...</td>\n",
       "      <td>gpt-4</td>\n",
       "      <td>prompt_basic_02</td>\n",
       "      <td>NaN</td>\n",
       "      <td>NaN</td>\n",
       "      <td>NaN</td>\n",
       "      <td>NaN</td>\n",
       "      <td>NaN</td>\n",
       "      <td>NaN</td>\n",
       "    </tr>\n",
       "    <tr>\n",
       "      <th>3</th>\n",
       "      <td>../../data/datasets/ocr/original/overproof/dat...</td>\n",
       "      <td>overproof</td>\n",
       "      <td>7 year 1922 type Article title http://chronicl...</td>\n",
       "      <td>OF $84,000</td>\n",
       "      <td>RAIDERS IN FREDERICK LAND HAUL OF $84,000 Watc...</td>\n",
       "      <td>RAIDERS IN FREDERICK LAND HAUL OF $84,000 Watc...</td>\n",
       "      <td>OF $84,000</td>\n",
       "      <td>RAIDERS IN FREDER IC K LAND HAUL OF $84,000 Wa...</td>\n",
       "      <td>RAIDERS IN FREDER IC K LAND HAUL OF $84,000 Wa...</td>\n",
       "      <td>Correct the spelling and grammar of the follow...</td>\n",
       "      <td>...</td>\n",
       "      <td>Raiders in Frederick Land Haul of $84,000: Wat...</td>\n",
       "      <td>Raiders in Frederick Land Haul of $84,000\\n\\nW...</td>\n",
       "      <td>gpt-4</td>\n",
       "      <td>prompt_basic_02</td>\n",
       "      <td>NaN</td>\n",
       "      <td>NaN</td>\n",
       "      <td>NaN</td>\n",
       "      <td>NaN</td>\n",
       "      <td>NaN</td>\n",
       "      <td>NaN</td>\n",
       "    </tr>\n",
       "    <tr>\n",
       "      <th>4</th>\n",
       "      <td>../../data/datasets/ocr/original/overproof/dat...</td>\n",
       "      <td>overproof</td>\n",
       "      <td>7 year 1922 type Article title http://chronicl...</td>\n",
       "      <td>Watchman Bound and Gagged</td>\n",
       "      <td>RAIDERS IN FREDERICK LAND HAUL OF $84,000 Watc...</td>\n",
       "      <td>RAIDERS IN FREDERICK LAND HAUL OF $84,000 Watc...</td>\n",
       "      <td>Watchman Bound and Gagged</td>\n",
       "      <td>RAIDERS IN FREDER IC K LAND HAUL OF $84,000 Wa...</td>\n",
       "      <td>RAIDERS IN FREDER IC K LAND HAUL OF $84,000 Wa...</td>\n",
       "      <td>Correct the spelling and grammar of the follow...</td>\n",
       "      <td>...</td>\n",
       "      <td>Raiders in Frederick Land Haul of $84,000: Wat...</td>\n",
       "      <td>Raiders in Frederick Land Haul of $84,000\\n\\nW...</td>\n",
       "      <td>gpt-4</td>\n",
       "      <td>prompt_basic_02</td>\n",
       "      <td>NaN</td>\n",
       "      <td>NaN</td>\n",
       "      <td>NaN</td>\n",
       "      <td>NaN</td>\n",
       "      <td>NaN</td>\n",
       "      <td>NaN</td>\n",
       "    </tr>\n",
       "  </tbody>\n",
       "</table>\n",
       "<p>5 rows × 21 columns</p>\n",
       "</div>"
      ],
      "text/plain": [
       "                                            filename dataset_name   \n",
       "0  ../../data/datasets/ocr/original/overproof/dat...    overproof  \\\n",
       "1  ../../data/datasets/ocr/original/overproof/dat...    overproof   \n",
       "2  ../../data/datasets/ocr/original/overproof/dat...    overproof   \n",
       "3  ../../data/datasets/ocr/original/overproof/dat...    overproof   \n",
       "4  ../../data/datasets/ocr/original/overproof/dat...    overproof   \n",
       "\n",
       "                                          article_id   \n",
       "0  7 year 1922 type Article title http://chronicl...  \\\n",
       "1  7 year 1922 type Article title http://chronicl...   \n",
       "2  7 year 1922 type Article title http://chronicl...   \n",
       "3  7 year 1922 type Article title http://chronicl...   \n",
       "4  7 year 1922 type Article title http://chronicl...   \n",
       "\n",
       "                    ocr.line   \n",
       "0                 RAIDERS IN  \\\n",
       "1                  FREDERICK   \n",
       "2                  LAND HAUL   \n",
       "3                 OF $84,000   \n",
       "4  Watchman Bound and Gagged   \n",
       "\n",
       "                                        ocr.sentence   \n",
       "0  RAIDERS IN FREDERICK LAND HAUL OF $84,000 Watc...  \\\n",
       "1  RAIDERS IN FREDERICK LAND HAUL OF $84,000 Watc...   \n",
       "2  RAIDERS IN FREDERICK LAND HAUL OF $84,000 Watc...   \n",
       "3  RAIDERS IN FREDERICK LAND HAUL OF $84,000 Watc...   \n",
       "4  RAIDERS IN FREDERICK LAND HAUL OF $84,000 Watc...   \n",
       "\n",
       "                                          ocr.region   \n",
       "0  RAIDERS IN FREDERICK LAND HAUL OF $84,000 Watc...  \\\n",
       "1  RAIDERS IN FREDERICK LAND HAUL OF $84,000 Watc...   \n",
       "2  RAIDERS IN FREDERICK LAND HAUL OF $84,000 Watc...   \n",
       "3  RAIDERS IN FREDERICK LAND HAUL OF $84,000 Watc...   \n",
       "4  RAIDERS IN FREDERICK LAND HAUL OF $84,000 Watc...   \n",
       "\n",
       "            groundtruth.line   \n",
       "0                 RAIDERS IN  \\\n",
       "1                FREDER IC K   \n",
       "2                  LAND HAUL   \n",
       "3                 OF $84,000   \n",
       "4  Watchman Bound and Gagged   \n",
       "\n",
       "                                groundtruth.sentence   \n",
       "0  RAIDERS IN FREDER IC K LAND HAUL OF $84,000 Wa...  \\\n",
       "1  RAIDERS IN FREDER IC K LAND HAUL OF $84,000 Wa...   \n",
       "2  RAIDERS IN FREDER IC K LAND HAUL OF $84,000 Wa...   \n",
       "3  RAIDERS IN FREDER IC K LAND HAUL OF $84,000 Wa...   \n",
       "4  RAIDERS IN FREDER IC K LAND HAUL OF $84,000 Wa...   \n",
       "\n",
       "                                  groundtruth.region   \n",
       "0  RAIDERS IN FREDER IC K LAND HAUL OF $84,000 Wa...  \\\n",
       "1  RAIDERS IN FREDER IC K LAND HAUL OF $84,000 Wa...   \n",
       "2  RAIDERS IN FREDER IC K LAND HAUL OF $84,000 Wa...   \n",
       "3  RAIDERS IN FREDER IC K LAND HAUL OF $84,000 Wa...   \n",
       "4  RAIDERS IN FREDER IC K LAND HAUL OF $84,000 Wa...   \n",
       "\n",
       "                                   prediction.prompt  ...   \n",
       "0  Correct the spelling and grammar of the follow...  ...  \\\n",
       "1  Correct the spelling and grammar of the follow...  ...   \n",
       "2  Correct the spelling and grammar of the follow...  ...   \n",
       "3  Correct the spelling and grammar of the follow...  ...   \n",
       "4  Correct the spelling and grammar of the follow...  ...   \n",
       "\n",
       "                                 prediction.sentence   \n",
       "0  Raiders in Frederick Land Haul of $84,000: Wat...  \\\n",
       "1  Raiders in Frederick Land Haul of $84,000: Wat...   \n",
       "2  Raiders in Frederick Land Haul of $84,000: Wat...   \n",
       "3  Raiders in Frederick Land Haul of $84,000: Wat...   \n",
       "4  Raiders in Frederick Land Haul of $84,000: Wat...   \n",
       "\n",
       "                                   prediction.region  model           prompt   \n",
       "0  Raiders in Frederick Land Haul of $84,000\\n\\nW...  gpt-4  prompt_basic_02  \\\n",
       "1  Raiders in Frederick Land Haul of $84,000\\n\\nW...  gpt-4  prompt_basic_02   \n",
       "2  Raiders in Frederick Land Haul of $84,000\\n\\nW...  gpt-4  prompt_basic_02   \n",
       "3  Raiders in Frederick Land Haul of $84,000\\n\\nW...  gpt-4  prompt_basic_02   \n",
       "4  Raiders in Frederick Land Haul of $84,000\\n\\nW...  gpt-4  prompt_basic_02   \n",
       "\n",
       "  century language File Date Type NbAlignedChar  \n",
       "0     NaN      NaN  NaN  NaN  NaN           NaN  \n",
       "1     NaN      NaN  NaN  NaN  NaN           NaN  \n",
       "2     NaN      NaN  NaN  NaN  NaN           NaN  \n",
       "3     NaN      NaN  NaN  NaN  NaN           NaN  \n",
       "4     NaN      NaN  NaN  NaN  NaN           NaN  \n",
       "\n",
       "[5 rows x 21 columns]"
      ]
     },
     "execution_count": 7,
     "metadata": {},
     "output_type": "execute_result"
    }
   ],
   "source": [
    "data = pd.concat(results)\n",
    "data.head()\n"
   ]
  },
  {
   "cell_type": "markdown",
   "id": "0d08ab9f",
   "metadata": {},
   "source": [
    "## Post-process"
   ]
  },
  {
   "cell_type": "code",
   "execution_count": 24,
   "id": "8d50ad03",
   "metadata": {},
   "outputs": [],
   "source": [
    "import Levenshtein\n",
    "from Levenshtein import distance\n",
    "\n",
    "def compute_normalized_levenshtein_similarity(ocr_text, ground_truth_text):\n",
    "    length = max(len(ocr_text), len(ground_truth_text))\n",
    "    levenshtein_distance = distance(ocr_text, ground_truth_text)\n",
    "    similarity = (length - levenshtein_distance) / length\n",
    "    return similarity\n",
    "\n",
    "def compute_jaccard(ocr_text, ground_truth_text):\n",
    "    try: \n",
    "        return jwdistance.get_jaro_distance(ocr_text, ground_truth_text)\n",
    "    except:\n",
    "        return 0.0\n",
    "\n",
    "# def get_improvement(original_distance, corrected_distance):\n",
    "#     return 1.0 - (original_distance - corrected_distance)\n",
    "\n",
    "def get_improvement(original_similarity, corrected_similarity):\n",
    "    if corrected_similarity != 0:\n",
    "        return (corrected_similarity - original_similarity) / corrected_similarity\n",
    "    else:\n",
    "        return corrected_similarity - original_similarity"
   ]
  },
  {
   "cell_type": "code",
   "execution_count": 9,
   "id": "e931fa10",
   "metadata": {},
   "outputs": [
    {
     "data": {
      "text/html": [
       "<div>\n",
       "<style scoped>\n",
       "    .dataframe tbody tr th:only-of-type {\n",
       "        vertical-align: middle;\n",
       "    }\n",
       "\n",
       "    .dataframe tbody tr th {\n",
       "        vertical-align: top;\n",
       "    }\n",
       "\n",
       "    .dataframe thead th {\n",
       "        text-align: right;\n",
       "    }\n",
       "</style>\n",
       "<table border=\"1\" class=\"dataframe\">\n",
       "  <thead>\n",
       "    <tr style=\"text-align: right;\">\n",
       "      <th></th>\n",
       "      <th>filename</th>\n",
       "      <th>dataset_name</th>\n",
       "      <th>article_id</th>\n",
       "      <th>ocr.line</th>\n",
       "      <th>ocr.sentence</th>\n",
       "      <th>ocr.region</th>\n",
       "      <th>groundtruth.line</th>\n",
       "      <th>groundtruth.sentence</th>\n",
       "      <th>groundtruth.region</th>\n",
       "      <th>prediction.prompt</th>\n",
       "      <th>...</th>\n",
       "      <th>prediction.sentence</th>\n",
       "      <th>prediction.region</th>\n",
       "      <th>model</th>\n",
       "      <th>prompt</th>\n",
       "      <th>century</th>\n",
       "      <th>language</th>\n",
       "      <th>File</th>\n",
       "      <th>Date</th>\n",
       "      <th>Type</th>\n",
       "      <th>NbAlignedChar</th>\n",
       "    </tr>\n",
       "  </thead>\n",
       "  <tbody>\n",
       "    <tr>\n",
       "      <th>325</th>\n",
       "      <td>Wecklein1894</td>\n",
       "      <td>ajmc-primary-text</td>\n",
       "      <td>NaN</td>\n",
       "      <td>ὅπου δ’ ὑβρίζειν δρᾶν θ’ ἃ βούλεται παρῇ,</td>\n",
       "      <td>δέος γὰρ πρόσεστιν αἰσχύνη W ὁμοῦ, σωτηρίαν ἔχ...</td>\n",
       "      <td>μηδὲν φόβου πρόβλημα und αἰδοῦς ἔχων. ἀλλ’ ἄνδ...</td>\n",
       "      <td>ὅπου δ’ ὑβρίζειν δρᾶν θ’ ἃ βούλεται παρῇ,</td>\n",
       "      <td>δέος γὰρ ᾧ πρόσεστιν αἰσχύνη θ’ ὁμοῦ, σωτηρίαν...</td>\n",
       "      <td>μηδὲν φόβου πρόβλημα μηδ’ αἰδοῦς ἔχων. ἀλλ’ ἄν...</td>\n",
       "      <td>Correct the text: \"δέος γὰρ πρόσεστιν αἰσχύνη ...</td>\n",
       "      <td>...</td>\n",
       "      <td>There are no errors in this text. Here is the ...</td>\n",
       "      <td>No changes are needed as this appears to be a ...</td>\n",
       "      <td>gpt-3.5-turbo</td>\n",
       "      <td>prompt_basic_01</td>\n",
       "      <td>NaN</td>\n",
       "      <td>NaN</td>\n",
       "      <td>NaN</td>\n",
       "      <td>NaN</td>\n",
       "      <td>NaN</td>\n",
       "      <td>NaN</td>\n",
       "    </tr>\n",
       "    <tr>\n",
       "      <th>326</th>\n",
       "      <td>Wecklein1894</td>\n",
       "      <td>ajmc-primary-text</td>\n",
       "      <td>NaN</td>\n",
       "      <td>ταύτην νόμιζε τὴν πόλιν χρόνῳ ποτὲ</td>\n",
       "      <td>δέος γὰρ πρόσεστιν αἰσχύνη W ὁμοῦ, σωτηρίαν ἔχ...</td>\n",
       "      <td>μηδὲν φόβου πρόβλημα und αἰδοῦς ἔχων. ἀλλ’ ἄνδ...</td>\n",
       "      <td>ταύτην νόμιζε τὴν πόλιν χρόνῳ ποτὲ</td>\n",
       "      <td>δέος γὰρ ᾧ πρόσεστιν αἰσχύνη θ’ ὁμοῦ, σωτηρίαν...</td>\n",
       "      <td>μηδὲν φόβου πρόβλημα μηδ’ αἰδοῦς ἔχων. ἀλλ’ ἄν...</td>\n",
       "      <td>Correct the text: \"ταύτην νόμιζε τὴν πόλιν χρό...</td>\n",
       "      <td>...</td>\n",
       "      <td>There are no errors in this text. Here is the ...</td>\n",
       "      <td>No changes are needed as this appears to be a ...</td>\n",
       "      <td>gpt-3.5-turbo</td>\n",
       "      <td>prompt_basic_01</td>\n",
       "      <td>NaN</td>\n",
       "      <td>NaN</td>\n",
       "      <td>NaN</td>\n",
       "      <td>NaN</td>\n",
       "      <td>NaN</td>\n",
       "      <td>NaN</td>\n",
       "    </tr>\n",
       "    <tr>\n",
       "      <th>327</th>\n",
       "      <td>Wecklein1894</td>\n",
       "      <td>ajmc-primary-text</td>\n",
       "      <td>NaN</td>\n",
       "      <td>ἐξ οὐρίων δραμοῦσαν ἐς βυθὸν πεσεῖν.</td>\n",
       "      <td>δέος γὰρ πρόσεστιν αἰσχύνη W ὁμοῦ, σωτηρίαν ἔχ...</td>\n",
       "      <td>μηδὲν φόβου πρόβλημα und αἰδοῦς ἔχων. ἀλλ’ ἄνδ...</td>\n",
       "      <td>ἐξ οὐρίων δραμοῦσαν ἐς βυθὸν πεσεῖν.</td>\n",
       "      <td>δέος γὰρ ᾧ πρόσεστιν αἰσχύνη θ’ ὁμοῦ, σωτηρίαν...</td>\n",
       "      <td>μηδὲν φόβου πρόβλημα μηδ’ αἰδοῦς ἔχων. ἀλλ’ ἄν...</td>\n",
       "      <td>Correct the text: \"ἐξ οὐρίων δραμοῦσαν ἐς βυθὸ...</td>\n",
       "      <td>...</td>\n",
       "      <td>There are no errors in this text. Here is the ...</td>\n",
       "      <td>No changes are needed as this appears to be a ...</td>\n",
       "      <td>gpt-3.5-turbo</td>\n",
       "      <td>prompt_basic_01</td>\n",
       "      <td>NaN</td>\n",
       "      <td>NaN</td>\n",
       "      <td>NaN</td>\n",
       "      <td>NaN</td>\n",
       "      <td>NaN</td>\n",
       "      <td>NaN</td>\n",
       "    </tr>\n",
       "    <tr>\n",
       "      <th>328</th>\n",
       "      <td>Wecklein1894</td>\n",
       "      <td>ajmc-primary-text</td>\n",
       "      <td>NaN</td>\n",
       "      <td>ΧΟ. Μενέλαε, μὴ γνώμας ὑποστήσας σοφὰς</td>\n",
       "      <td>ΧΟ.</td>\n",
       "      <td>μηδὲν φόβου πρόβλημα und αἰδοῦς ἔχων. ἀλλ’ ἄνδ...</td>\n",
       "      <td>ΧΟ. Μενέλαε, un γνώμας ὑποστήσας σοφὰς</td>\n",
       "      <td>ΧΟ.</td>\n",
       "      <td>μηδὲν φόβου πρόβλημα μηδ’ αἰδοῦς ἔχων. ἀλλ’ ἄν...</td>\n",
       "      <td>Correct the text: \"ΧΟ. Μενέλαε, μὴ γνώμας ὑποσ...</td>\n",
       "      <td>...</td>\n",
       "      <td>I'm sorry but \"ΧΟ.\"</td>\n",
       "      <td>No changes are needed as this appears to be a ...</td>\n",
       "      <td>gpt-3.5-turbo</td>\n",
       "      <td>prompt_basic_01</td>\n",
       "      <td>NaN</td>\n",
       "      <td>NaN</td>\n",
       "      <td>NaN</td>\n",
       "      <td>NaN</td>\n",
       "      <td>NaN</td>\n",
       "      <td>NaN</td>\n",
       "    </tr>\n",
       "    <tr>\n",
       "      <th>329</th>\n",
       "      <td>Wecklein1894</td>\n",
       "      <td>ajmc-primary-text</td>\n",
       "      <td>NaN</td>\n",
       "      <td>ΧΟ. Μενέλαε, μὴ γνώμας ὑποστήσας σοφὰς</td>\n",
       "      <td>ΧΟ.</td>\n",
       "      <td>μηδὲν φόβου πρόβλημα und αἰδοῦς ἔχων. ἀλλ’ ἄνδ...</td>\n",
       "      <td>ΧΟ. Μενέλαε, un γνώμας ὑποστήσας σοφὰς</td>\n",
       "      <td>ΧΟ.</td>\n",
       "      <td>μηδὲν φόβου πρόβλημα μηδ’ αἰδοῦς ἔχων. ἀλλ’ ἄν...</td>\n",
       "      <td>NaN</td>\n",
       "      <td>...</td>\n",
       "      <td>I'm sorry but \"ΧΟ.\"</td>\n",
       "      <td>No changes are needed as this appears to be a ...</td>\n",
       "      <td>gpt-3.5-turbo</td>\n",
       "      <td>prompt_basic_01</td>\n",
       "      <td>NaN</td>\n",
       "      <td>NaN</td>\n",
       "      <td>NaN</td>\n",
       "      <td>NaN</td>\n",
       "      <td>NaN</td>\n",
       "      <td>NaN</td>\n",
       "    </tr>\n",
       "  </tbody>\n",
       "</table>\n",
       "<p>5 rows × 21 columns</p>\n",
       "</div>"
      ],
      "text/plain": [
       "         filename       dataset_name article_id   \n",
       "325  Wecklein1894  ajmc-primary-text        NaN  \\\n",
       "326  Wecklein1894  ajmc-primary-text        NaN   \n",
       "327  Wecklein1894  ajmc-primary-text        NaN   \n",
       "328  Wecklein1894  ajmc-primary-text        NaN   \n",
       "329  Wecklein1894  ajmc-primary-text        NaN   \n",
       "\n",
       "                                      ocr.line   \n",
       "325  ὅπου δ’ ὑβρίζειν δρᾶν θ’ ἃ βούλεται παρῇ,  \\\n",
       "326         ταύτην νόμιζε τὴν πόλιν χρόνῳ ποτὲ   \n",
       "327       ἐξ οὐρίων δραμοῦσαν ἐς βυθὸν πεσεῖν.   \n",
       "328     ΧΟ. Μενέλαε, μὴ γνώμας ὑποστήσας σοφὰς   \n",
       "329     ΧΟ. Μενέλαε, μὴ γνώμας ὑποστήσας σοφὰς   \n",
       "\n",
       "                                          ocr.sentence   \n",
       "325  δέος γὰρ πρόσεστιν αἰσχύνη W ὁμοῦ, σωτηρίαν ἔχ...  \\\n",
       "326  δέος γὰρ πρόσεστιν αἰσχύνη W ὁμοῦ, σωτηρίαν ἔχ...   \n",
       "327  δέος γὰρ πρόσεστιν αἰσχύνη W ὁμοῦ, σωτηρίαν ἔχ...   \n",
       "328                                                ΧΟ.   \n",
       "329                                                ΧΟ.   \n",
       "\n",
       "                                            ocr.region   \n",
       "325  μηδὲν φόβου πρόβλημα und αἰδοῦς ἔχων. ἀλλ’ ἄνδ...  \\\n",
       "326  μηδὲν φόβου πρόβλημα und αἰδοῦς ἔχων. ἀλλ’ ἄνδ...   \n",
       "327  μηδὲν φόβου πρόβλημα und αἰδοῦς ἔχων. ἀλλ’ ἄνδ...   \n",
       "328  μηδὲν φόβου πρόβλημα und αἰδοῦς ἔχων. ἀλλ’ ἄνδ...   \n",
       "329  μηδὲν φόβου πρόβλημα und αἰδοῦς ἔχων. ἀλλ’ ἄνδ...   \n",
       "\n",
       "                              groundtruth.line   \n",
       "325  ὅπου δ’ ὑβρίζειν δρᾶν θ’ ἃ βούλεται παρῇ,  \\\n",
       "326         ταύτην νόμιζε τὴν πόλιν χρόνῳ ποτὲ   \n",
       "327       ἐξ οὐρίων δραμοῦσαν ἐς βυθὸν πεσεῖν.   \n",
       "328     ΧΟ. Μενέλαε, un γνώμας ὑποστήσας σοφὰς   \n",
       "329     ΧΟ. Μενέλαε, un γνώμας ὑποστήσας σοφὰς   \n",
       "\n",
       "                                  groundtruth.sentence   \n",
       "325  δέος γὰρ ᾧ πρόσεστιν αἰσχύνη θ’ ὁμοῦ, σωτηρίαν...  \\\n",
       "326  δέος γὰρ ᾧ πρόσεστιν αἰσχύνη θ’ ὁμοῦ, σωτηρίαν...   \n",
       "327  δέος γὰρ ᾧ πρόσεστιν αἰσχύνη θ’ ὁμοῦ, σωτηρίαν...   \n",
       "328                                                ΧΟ.   \n",
       "329                                                ΧΟ.   \n",
       "\n",
       "                                    groundtruth.region   \n",
       "325  μηδὲν φόβου πρόβλημα μηδ’ αἰδοῦς ἔχων. ἀλλ’ ἄν...  \\\n",
       "326  μηδὲν φόβου πρόβλημα μηδ’ αἰδοῦς ἔχων. ἀλλ’ ἄν...   \n",
       "327  μηδὲν φόβου πρόβλημα μηδ’ αἰδοῦς ἔχων. ἀλλ’ ἄν...   \n",
       "328  μηδὲν φόβου πρόβλημα μηδ’ αἰδοῦς ἔχων. ἀλλ’ ἄν...   \n",
       "329  μηδὲν φόβου πρόβλημα μηδ’ αἰδοῦς ἔχων. ἀλλ’ ἄν...   \n",
       "\n",
       "                                     prediction.prompt  ...   \n",
       "325  Correct the text: \"δέος γὰρ πρόσεστιν αἰσχύνη ...  ...  \\\n",
       "326  Correct the text: \"ταύτην νόμιζε τὴν πόλιν χρό...  ...   \n",
       "327  Correct the text: \"ἐξ οὐρίων δραμοῦσαν ἐς βυθὸ...  ...   \n",
       "328  Correct the text: \"ΧΟ. Μενέλαε, μὴ γνώμας ὑποσ...  ...   \n",
       "329                                                NaN  ...   \n",
       "\n",
       "                                   prediction.sentence   \n",
       "325  There are no errors in this text. Here is the ...  \\\n",
       "326  There are no errors in this text. Here is the ...   \n",
       "327  There are no errors in this text. Here is the ...   \n",
       "328                                I'm sorry but \"ΧΟ.\"   \n",
       "329                                I'm sorry but \"ΧΟ.\"   \n",
       "\n",
       "                                     prediction.region          model   \n",
       "325  No changes are needed as this appears to be a ...  gpt-3.5-turbo  \\\n",
       "326  No changes are needed as this appears to be a ...  gpt-3.5-turbo   \n",
       "327  No changes are needed as this appears to be a ...  gpt-3.5-turbo   \n",
       "328  No changes are needed as this appears to be a ...  gpt-3.5-turbo   \n",
       "329  No changes are needed as this appears to be a ...  gpt-3.5-turbo   \n",
       "\n",
       "              prompt century language File Date Type NbAlignedChar  \n",
       "325  prompt_basic_01     NaN      NaN  NaN  NaN  NaN           NaN  \n",
       "326  prompt_basic_01     NaN      NaN  NaN  NaN  NaN           NaN  \n",
       "327  prompt_basic_01     NaN      NaN  NaN  NaN  NaN           NaN  \n",
       "328  prompt_basic_01     NaN      NaN  NaN  NaN  NaN           NaN  \n",
       "329  prompt_basic_01     NaN      NaN  NaN  NaN  NaN           NaN  \n",
       "\n",
       "[5 rows x 21 columns]"
      ]
     },
     "execution_count": 9,
     "metadata": {},
     "output_type": "execute_result"
    }
   ],
   "source": [
    "data.tail()\n"
   ]
  },
  {
   "cell_type": "code",
   "execution_count": 12,
   "id": "41f8de4e",
   "metadata": {},
   "outputs": [
    {
     "data": {
      "text/plain": [
       "-61.2692"
      ]
     },
     "execution_count": 12,
     "metadata": {},
     "output_type": "execute_result"
    }
   ],
   "source": [
    "gt_text = \"149 Obrázek z maloměstského kukátka. Podává L. Gro\"\n",
    "ocr_text = \"149 Obrázek z maloměstského kukátka. Podává L. Grw\"\n",
    "pred_text = \"\"\"Correct the text: \"149 Obrázek z maloměstského kukátka. Podává L. Grwsmannová-Brodská. Místo děje: salon paní stavitelky; doba: čas věnovaný kávové „visitě\"; jednající osoby: dámy přednější honorace městské, z nichž •většina je mladá a některé skutečně hezké. Na stole prostřeném krásným ubrusem damaškovým stojí talíře s koláčky, věnečky a preclíčky, kol toho pěkně se vyjímají křišťálové sklenky s vodou, stříbrné lžičky a šálky z jemného porcelánu, jejichž vonný obsah na přítomné paničky zdá se velmi blaze působiti. Ze živějšího hovoru vyznívá právě hlas paní notářky, která ve spravedlivém rozhorlení mluví: „Ano, mé dámy, již jest to takové! Samy ráčily jste býti svědky, jak svorně i jednohlasně byl přijat návrh paní sládkové, abychom si pořídily kroje národní a tak přispěly ku zvýšení lesku slavnosti, již pořádá náš statečný studentský spolek „Hvězda\", a když již nás páni akademikové poctili důvěrou, že v naše ruce složili starost o buffet a jiné ještě funkce, tož měly bychom snad též jiti za příkladem slečen berních a vzdáti se činnosti jen proto, že se zdá paní berní národní kroj pro tři dcery býti nějakou zby tečnou výlohou?\" Paničky projevovaly svoji nevoli, každá jiným spůsobem. Mladá paní adjunktová v duchu si umiňovala, že ve svém přátel ství k berňovům trochu ochladne; to tak! aby ten jejich pošetilý nápad, úóinkovati při slavnosti v obyčejném oděvu, přece zvítězil a dámám se bylo odříci těch půvabných krojů venkovských, co by si jen ona, paní adjunktová, počala s tou haldou brokátu, atlasu, krajek, stuh a aksamitu, za což vydala nejednu desítku, utěšujíc se tím, jak jí to bude slušeti! Hm, a škodu z toho také míti nebude, muž se bude musit po několik měsíců uskrovnit, služka se má beztoho též až příliš dobře, uhradí se to na domácnosti a bude! Nyní ujala se slova paní doktorka: „Aj, od berních to není nic divného, považte jen: tolik dětí! Vždyť my všecky víme, že kdyby sobě slečny toillety samy ne řídily, mnohého by nemohly míti; ony pak mají zásadu: nemá-li být něco pěkné, tož raději nic!\" „Pravda, ale slečny Elišky, té nejmladší, jest mně líto; těšila se velice na selský kroj.\" „Ba ano, byla by v něm vypadala roztomile.\" „Nyní má po radosti.\" „Inu, proč má tak nepřející matinku.\" „To není to, má drahá, jest v tom však jiný háček.\" „Ah, ano; vždyť víme, že sotva tak tak vyjdou.\" „Ale na knihy, které jsi tvá, jinak našel byste jen krytí těch mladých mozí, jinak je vydáte.\" „A tak bude, ostatně jdu až na knihy; ale slyšet jsem od někoho, že o krojech něco dělat, a že to bylo bude dělat národní, a když jsi tento národní učil jak, pak by měl nalézt tuto kartu, ta by se jistě mohla vyměnit se všemi. Můžete-li to od nás odkázat?\" Všem ozdravila její hlas, když řekla: „Já, já! a já ho učím. S těmi páne akademiky jsem již mohla vyprávět o světě, v němž vznítí v některé nocy a jednoho dne vyrostá vám hrozný kouzelný strom zůstane, o němž je psáno: ‚Už jen žádat!\" 50 V tuto chvíli koupili mohou-li všichni pánové i paní, že když jsi to čerpala, dá se jen kupit. Přižili to, a já jim vám koupi ukáži.\n",
    "„A já už jste tím vyděštila. Pánové, děkuji vám za chytré vědomí, se kterým vám projeví, že se už točí dívčí zrcadlo.\" – 151\"\"\"\n",
    "                \n",
    "get_improvement(compute_normalized_levenshtein_similarity(gt_text, ocr_text), \n",
    "                compute_normalized_levenshtein_similarity(gt_text, pred_text))\n",
    "\n",
    "\n"
   ]
  },
  {
   "cell_type": "code",
   "execution_count": 43,
   "id": "47b3d309",
   "metadata": {},
   "outputs": [],
   "source": [
    "def get_improvement(old_value, new_value):\n",
    "    if old_value == 0:\n",
    "        if new_value == 0:\n",
    "            return 0\n",
    "        else:\n",
    "            return 0 # np.inf  # or return a large number or handle as needed\n",
    "    else:\n",
    "        improvement = (new_value - old_value) / old_value * 100\n",
    "        return improvement"
   ]
  },
  {
   "cell_type": "code",
   "execution_count": 111,
   "id": "021c2fc6",
   "metadata": {},
   "outputs": [
    {
     "data": {
      "text/plain": [
       "(0.8571428571428571, 1.0)"
      ]
     },
     "execution_count": 111,
     "metadata": {},
     "output_type": "execute_result"
    }
   ],
   "source": [
    "gt_text = 'testing'\n",
    "ocr_text = 'resting'\n",
    "pred_text = 'testing'\n",
    "\n",
    "compute_normalized_levenshtein_similarity(gt_text, ocr_text), compute_normalized_levenshtein_similarity(gt_text, pred_text)\n"
   ]
  },
  {
   "cell_type": "code",
   "execution_count": 112,
   "id": "f8e22820",
   "metadata": {},
   "outputs": [
    {
     "data": {
      "text/plain": [
       "16.666666666666675"
      ]
     },
     "execution_count": 112,
     "metadata": {},
     "output_type": "execute_result"
    }
   ],
   "source": [
    "get_improvement(compute_normalized_levenshtein_similarity(gt_text, ocr_text), \n",
    "                compute_normalized_levenshtein_similarity(gt_text, pred_text))\n"
   ]
  },
  {
   "cell_type": "code",
   "execution_count": 23,
   "id": "af90e8c4",
   "metadata": {},
   "outputs": [
    {
     "name": "stdout",
     "output_type": "stream",
     "text": [
      "Levenshtein distance: 1\n",
      "Levenshtein similarity: 0.86\n"
     ]
    }
   ],
   "source": [
    "import Levenshtein\n",
    "\n",
    "# Example strings\n",
    "s1 = \"testing\"\n",
    "s2 = \"resting\"\n",
    "\n",
    "# Calculate the Levenshtein distance\n",
    "lev_distance = Levenshtein.distance(s1, s2)\n",
    "print(f\"Levenshtein distance: {distance}\")\n",
    "\n",
    "# Calculate the Levenshtein similarity\n",
    "similarity = (max(len(s1), len(s2)) - lev_distance) / max(len(s1), len(s2))\n",
    "print(f\"Levenshtein similarity: {similarity:.2f}\")\n"
   ]
  },
  {
   "cell_type": "code",
   "execution_count": 18,
   "id": "c55678d1",
   "metadata": {},
   "outputs": [],
   "source": [
    "def postprocess(text):\n",
    "    if text is not None:\n",
    "        if len(text.strip()) > 0:\n",
    "            if text.startswith('\"'):\n",
    "                text = text[1:]\n",
    "            if text.endswith('\"'):\n",
    "                text = text[:-1]\n",
    "    return text"
   ]
  },
  {
   "cell_type": "code",
   "execution_count": 20,
   "id": "73471f4a",
   "metadata": {},
   "outputs": [
    {
     "data": {
      "text/plain": [
       "array(['gpt-4', 'gpt-3.5-turbo', 'facebook-opt-350m',\n",
       "       'bigscience-bloom-560m', 'decapoda-research-llama-7b-hf',\n",
       "       'davinci', 'gpt2', 'tloen-alpaca-lora-7b'], dtype=object)"
      ]
     },
     "execution_count": 20,
     "metadata": {},
     "output_type": "execute_result"
    }
   ],
   "source": [
    "data = pd.concat(results)\n",
    "\n",
    "data['model'].unique()"
   ]
  },
  {
   "cell_type": "code",
   "execution_count": 189,
   "id": "ced49b88",
   "metadata": {},
   "outputs": [
    {
     "name": "stderr",
     "output_type": "stream",
     "text": [
      " 22%|████████████████████████████████████████████████████▋                                                                                                                                                                                        | 22/99 [02:25<01:44,  1.36s/it]"
     ]
    },
    {
     "name": "stdout",
     "output_type": "stream",
     "text": [
      "> \u001B[0;32m/var/folders/rv/x6hk7f3j7dzb763m4m3kgmb00000gp/T/ipykernel_18017/4147036930.py\u001B[0m(66)\u001B[0;36m<module>\u001B[0;34m()\u001B[0m\n",
      "\u001B[0;32m     64 \u001B[0;31m                \u001B[0;32mimport\u001B[0m \u001B[0mpdb\u001B[0m\u001B[0;34m;\u001B[0m\u001B[0mpdb\u001B[0m\u001B[0;34m.\u001B[0m\u001B[0mset_trace\u001B[0m\u001B[0;34m(\u001B[0m\u001B[0;34m)\u001B[0m\u001B[0;34m\u001B[0m\u001B[0;34m\u001B[0m\u001B[0m\n",
      "\u001B[0m\u001B[0;32m     65 \u001B[0;31m            \u001B[0;31m# Compute WER\u001B[0m\u001B[0;34m\u001B[0m\u001B[0;34m\u001B[0m\u001B[0;34m\u001B[0m\u001B[0m\n",
      "\u001B[0m\u001B[0;32m---> 66 \u001B[0;31m            results[idx][f'{segment_type}-wer-ocr'] = results[idx].apply(lambda x: pywer.wer(x[f'ocr.{segment_type}'], \n",
      "\u001B[0m\u001B[0;32m     67 \u001B[0;31m                                                                                             x[f'groundtruth.{segment_type}']), axis=1)\n",
      "\u001B[0m\u001B[0;32m     68 \u001B[0;31m            results[idx][f'{segment_type}-wer-pred'] = results[idx].apply(lambda x: pywer.wer(x[f'prediction.{segment_type}'], \n",
      "\u001B[0m\n",
      "ipdb> results[idx][f'{segment_type}-cer-ocr']\n",
      "0      0.000000\n",
      "1      0.000000\n",
      "2      0.000000\n",
      "3      0.000000\n",
      "4      0.000000\n",
      "        ...    \n",
      "91     1.298701\n",
      "92     4.285714\n",
      "94     3.125000\n",
      "95    95.454545\n",
      "96    43.283582\n",
      "Name: line-cer-ocr, Length: 92, dtype: float64\n",
      "ipdb> results[idx][f'groundtruth.region']\n",
      "0                                        Pränumeration.\n",
      "1                                        Pränumeration.\n",
      "2                           Jährlich............. 8 Fr.\n",
      "3                           Jährlich............. 8 Fr.\n",
      "4                           Jährlich............. 8 Fr.\n",
      "                            ...                        \n",
      "91    dem Schulberuf widmen; — daß es wenige Gemeind...\n",
      "92    dem Schulberuf widmen; — daß es wenige Gemeind...\n",
      "94    dem Schulberuf widmen; — daß es wenige Gemeind...\n",
      "95    dem Schulberuf widmen; — daß es wenige Gemeind...\n",
      "96    dem Schulberuf widmen; — daß es wenige Gemeind...\n",
      "Name: groundtruth.region, Length: 92, dtype: object\n",
      "ipdb> results[idx][f'prediction.region']\n",
      "0     Pränumeration.\\n\\nIn this example, all the wor...\n",
      "1     Pränumeration.\\n\\nIn this example, all the wor...\n",
      "2     Jährlich.....8 Fr.\\n\\n## External links\\n\\n* B...\n",
      "3     Jährlich.....8 Fr.\\n\\n## External links\\n\\n* B...\n",
      "4     Jährlich.....8 Fr.\\n\\n## External links\\n\\n* B...\n",
      "                            ...                        \n",
      "91     ⁇  Correct the spelling and grammar of the fo...\n",
      "92     ⁇  Correct the spelling and grammar of the fo...\n",
      "94     ⁇  Correct the spelling and grammar of the fo...\n",
      "95     ⁇  Correct the spelling and grammar of the fo...\n",
      "96     ⁇  Correct the spelling and grammar of the fo...\n",
      "Name: prediction.region, Length: 92, dtype: object\n",
      "ipdb> results[idx][f'ocr.region']\n",
      "0                                        Pränumeration.\n",
      "1                                        Pränumeration.\n",
      "2                           Jährlich............. 8 Fr.\n",
      "3                           Jährlich............. 8 Fr.\n",
      "4                           Jährlich............. 8 Fr.\n",
      "                            ...                        \n",
      "91    dem Schulberuf widmen; — daß e« wenige Gemeind...\n",
      "92    dem Schulberuf widmen; — daß e« wenige Gemeind...\n",
      "94    dem Schulberuf widmen; — daß e« wenige Gemeind...\n",
      "95    dem Schulberuf widmen; — daß e« wenige Gemeind...\n",
      "96    dem Schulberuf widmen; — daß e« wenige Gemeind...\n",
      "Name: ocr.region, Length: 92, dtype: object\n",
      "ipdb> q\n"
     ]
    },
    {
     "name": "stderr",
     "output_type": "stream",
     "text": [
      " 22%|████████████████████████████████████████████████████▋                                                                                                                                                                                        | 22/99 [03:41<12:54, 10.06s/it]\n"
     ]
    }
   ],
   "source": [
    "# Define OCR noise level bins\n",
    "# bins = [0, 0.1, 0.2, 0.3, 0.4, 0.5, 0.6, 0.7, 0.8, 0.9, 1]\n",
    "bins = [0, 0.7, 0.8, 0.9, 1]\n",
    "\n",
    "# Assign OCR noise level labels\n",
    "# labels = [\"0-10%\", \"10-20%\", \"20-30%\", \"30-40%\", \"40-50%\", \"50-60%\", \"60-70%\", \"70-80%\", \"80-90%\", \"90-100%\"]\n",
    "labels = [\"0-70%\", \"70-80%\", \"80-90%\", \"90-100%\"]\n",
    "\n",
    "\n",
    "for idx, result in tqdm(enumerate(results), total=len(results)):\n",
    "    \n",
    "    try:\n",
    "        results[idx] = results[idx].fillna('No text')\n",
    "    except:\n",
    "        pass\n",
    "#     results[idx] = results[idx][results[idx].model != 'tloen-alpaca-lora-7b']\n",
    "    \n",
    "    dataset_name = results[idx]['dataset_name'].unique()[0]\n",
    "    model_name = results[idx]['model'].unique()[0]\n",
    "    prompt = results[idx]['prompt'].unique()[0]\n",
    "    \n",
    "#     print('Dataset:', dataset_name, 'Model:', model_name, 'Prompt:', prompt)\n",
    "    \n",
    "    if 'alpaca' not in model_name:\n",
    "    \n",
    "        if 'icdar' in dataset_name:\n",
    "            text_types = ['sentence', 'region']\n",
    "        else:\n",
    "            text_types = ['line', 'sentence', 'region']\n",
    "        for segment_type in text_types:\n",
    "\n",
    "            results[idx]['length'] = results[idx][f'groundtruth.{segment_type}'].str.len()\n",
    "            results[idx] = results[idx][results[idx]['length'] > 3]\n",
    "\n",
    "            results[idx][f'prediction.{segment_type}'] = results[idx][f'prediction.{segment_type}'].apply(postprocess)\n",
    "            \n",
    "#             # Compute Jaccard similarity\n",
    "#             results[idx][f'{segment_type}-jaccard-ocr'] = \\\n",
    "#                 results[idx].apply(lambda x: compute_jaccard(x[f'groundtruth.{segment_type}'],\n",
    "#                                                              x[f'ocr.{segment_type}']), axis=1)\n",
    "            \n",
    "#             results[idx][f'{segment_type}-jaccard-pred'] = \\\n",
    "#                 results[idx].apply(lambda x: compute_jaccard(x[f'groundtruth.{segment_type}'],\n",
    "#                                                              x[f'prediction.{segment_type}']), axis=1)\n",
    "            \n",
    "            # Compute Lev similarity\n",
    "            results[idx][f'{segment_type}-lev-ocr'] = \\\n",
    "                results[idx].apply(lambda x: compute_normalized_levenshtein_similarity(x[f'groundtruth.{segment_type}'],\n",
    "                                                                                     x[f'ocr.{segment_type}']), axis=1)\n",
    "            results[idx][f'{segment_type}-lev-pred'] = \\\n",
    "                results[idx].apply(lambda x: compute_normalized_levenshtein_similarity(x[f'groundtruth.{segment_type}'],\n",
    "                                                                                     x[f'prediction.{segment_type}']), axis=1)\n",
    "\n",
    "            results[idx][f'{segment_type}-lev-improvement'] = \\\n",
    "                results[idx].apply(lambda x: get_improvement(x[f'{segment_type}-lev-ocr'],\n",
    "                                                             x[f'{segment_type}-lev-pred']), axis=1)\n",
    "            # Compute CER\n",
    "            results[idx][f'{segment_type}-cer-ocr'] = results[idx].apply(lambda x: pywer.cer(x[f'ocr.{segment_type}'], \n",
    "                                                                                             x[f'groundtruth.{segment_type}']), axis=1)\n",
    "            results[idx][f'{segment_type}-cer-pred'] = results[idx].apply(lambda x: pywer.cer(x[f'prediction.{segment_type}'], \n",
    "                                                                                              x[f'groundtruth.{segment_type}']), axis=1)\n",
    "\n",
    "            # Compute WER\n",
    "            results[idx][f'{segment_type}-wer-ocr'] = results[idx].apply(lambda x: pywer.wer(x[f'ocr.{segment_type}'], \n",
    "                                                                                             x[f'groundtruth.{segment_type}']), axis=1)\n",
    "            results[idx][f'{segment_type}-wer-pred'] = results[idx].apply(lambda x: pywer.wer(x[f'prediction.{segment_type}'], \n",
    "                                                         x[f'groundtruth.{segment_type}']), axis=1)\n",
    "\n",
    "            # CER & WER improvement\n",
    "            results[idx][f'{segment_type}-cer-improvement'] = \\\n",
    "                results[idx].apply(lambda x: get_improvement(x[f'{segment_type}-cer-ocr'],\n",
    "                                                             x[f'{segment_type}-cer-pred']), axis=1)\n",
    "            results[idx][f'{segment_type}-wer-improvement'] = \\\n",
    "                results[idx].apply(lambda x: get_improvement(x[f'{segment_type}-wer-ocr'],\n",
    "                                                             x[f'{segment_type}-wer-pred']), axis=1)\n",
    "\n",
    "            # Create a new column for the OCR noise level bins\n",
    "            results[idx][f\"{segment_type}-ocr-noise-group\"] = pd.cut(results[idx][f'{segment_type}-lev-ocr'], \n",
    "                                                     bins=bins, labels=labels, \n",
    "                                                     include_lowest=True)\n"
   ]
  },
  {
   "cell_type": "code",
   "execution_count": 120,
   "id": "7756144d",
   "metadata": {},
   "outputs": [],
   "source": [
    "data = pd.concat(results)\n",
    "\n"
   ]
  },
  {
   "cell_type": "code",
   "execution_count": 121,
   "id": "ae96c88f",
   "metadata": {},
   "outputs": [
    {
     "data": {
      "text/html": [
       "<div>\n",
       "<style scoped>\n",
       "    .dataframe tbody tr th:only-of-type {\n",
       "        vertical-align: middle;\n",
       "    }\n",
       "\n",
       "    .dataframe tbody tr th {\n",
       "        vertical-align: top;\n",
       "    }\n",
       "\n",
       "    .dataframe thead th {\n",
       "        text-align: right;\n",
       "    }\n",
       "</style>\n",
       "<table border=\"1\" class=\"dataframe\">\n",
       "  <thead>\n",
       "    <tr style=\"text-align: right;\">\n",
       "      <th></th>\n",
       "      <th>filename</th>\n",
       "      <th>dataset_name</th>\n",
       "      <th>article_id</th>\n",
       "      <th>ocr.line</th>\n",
       "      <th>ocr.sentence</th>\n",
       "      <th>ocr.region</th>\n",
       "      <th>groundtruth.line</th>\n",
       "      <th>groundtruth.sentence</th>\n",
       "      <th>groundtruth.region</th>\n",
       "      <th>prediction.prompt</th>\n",
       "      <th>...</th>\n",
       "      <th>region-wer-pred</th>\n",
       "      <th>region-cer-improvement</th>\n",
       "      <th>region-wer-improvement</th>\n",
       "      <th>region-ocr-noise-group</th>\n",
       "      <th>century</th>\n",
       "      <th>language</th>\n",
       "      <th>File</th>\n",
       "      <th>Date</th>\n",
       "      <th>Type</th>\n",
       "      <th>NbAlignedChar</th>\n",
       "    </tr>\n",
       "  </thead>\n",
       "  <tbody>\n",
       "    <tr>\n",
       "      <th>0</th>\n",
       "      <td>../../data/datasets/ocr/original/overproof/dat...</td>\n",
       "      <td>overproof</td>\n",
       "      <td>7 year 1922 type Article title http://chronicl...</td>\n",
       "      <td>RAIDERS IN</td>\n",
       "      <td>RAIDERS IN FREDERICK LAND HAUL OF $84,000 Watc...</td>\n",
       "      <td>RAIDERS IN FREDERICK LAND HAUL OF $84,000 Watc...</td>\n",
       "      <td>RAIDERS IN</td>\n",
       "      <td>RAIDERS IN FREDER IC K LAND HAUL OF $84,000 Wa...</td>\n",
       "      <td>RAIDERS IN FREDER IC K LAND HAUL OF $84,000 Wa...</td>\n",
       "      <td>Correct the spelling and grammar of the follow...</td>\n",
       "      <td>...</td>\n",
       "      <td>112.970711</td>\n",
       "      <td>0.536288</td>\n",
       "      <td>0.545959</td>\n",
       "      <td>90-100%</td>\n",
       "      <td>NaN</td>\n",
       "      <td>NaN</td>\n",
       "      <td>NaN</td>\n",
       "      <td>NaN</td>\n",
       "      <td>NaN</td>\n",
       "      <td>NaN</td>\n",
       "    </tr>\n",
       "    <tr>\n",
       "      <th>1</th>\n",
       "      <td>../../data/datasets/ocr/original/overproof/dat...</td>\n",
       "      <td>overproof</td>\n",
       "      <td>7 year 1922 type Article title http://chronicl...</td>\n",
       "      <td>FREDERICK</td>\n",
       "      <td>RAIDERS IN FREDERICK LAND HAUL OF $84,000 Watc...</td>\n",
       "      <td>RAIDERS IN FREDERICK LAND HAUL OF $84,000 Watc...</td>\n",
       "      <td>FREDER IC K</td>\n",
       "      <td>RAIDERS IN FREDER IC K LAND HAUL OF $84,000 Wa...</td>\n",
       "      <td>RAIDERS IN FREDER IC K LAND HAUL OF $84,000 Wa...</td>\n",
       "      <td>Correct the spelling and grammar of the follow...</td>\n",
       "      <td>...</td>\n",
       "      <td>112.970711</td>\n",
       "      <td>0.536288</td>\n",
       "      <td>0.545959</td>\n",
       "      <td>90-100%</td>\n",
       "      <td>NaN</td>\n",
       "      <td>NaN</td>\n",
       "      <td>NaN</td>\n",
       "      <td>NaN</td>\n",
       "      <td>NaN</td>\n",
       "      <td>NaN</td>\n",
       "    </tr>\n",
       "    <tr>\n",
       "      <th>2</th>\n",
       "      <td>../../data/datasets/ocr/original/overproof/dat...</td>\n",
       "      <td>overproof</td>\n",
       "      <td>7 year 1922 type Article title http://chronicl...</td>\n",
       "      <td>LAND HAUL</td>\n",
       "      <td>RAIDERS IN FREDERICK LAND HAUL OF $84,000 Watc...</td>\n",
       "      <td>RAIDERS IN FREDERICK LAND HAUL OF $84,000 Watc...</td>\n",
       "      <td>LAND HAUL</td>\n",
       "      <td>RAIDERS IN FREDER IC K LAND HAUL OF $84,000 Wa...</td>\n",
       "      <td>RAIDERS IN FREDER IC K LAND HAUL OF $84,000 Wa...</td>\n",
       "      <td>Correct the spelling and grammar of the follow...</td>\n",
       "      <td>...</td>\n",
       "      <td>112.970711</td>\n",
       "      <td>0.536288</td>\n",
       "      <td>0.545959</td>\n",
       "      <td>90-100%</td>\n",
       "      <td>NaN</td>\n",
       "      <td>NaN</td>\n",
       "      <td>NaN</td>\n",
       "      <td>NaN</td>\n",
       "      <td>NaN</td>\n",
       "      <td>NaN</td>\n",
       "    </tr>\n",
       "    <tr>\n",
       "      <th>3</th>\n",
       "      <td>../../data/datasets/ocr/original/overproof/dat...</td>\n",
       "      <td>overproof</td>\n",
       "      <td>7 year 1922 type Article title http://chronicl...</td>\n",
       "      <td>OF $84,000</td>\n",
       "      <td>RAIDERS IN FREDERICK LAND HAUL OF $84,000 Watc...</td>\n",
       "      <td>RAIDERS IN FREDERICK LAND HAUL OF $84,000 Watc...</td>\n",
       "      <td>OF $84,000</td>\n",
       "      <td>RAIDERS IN FREDER IC K LAND HAUL OF $84,000 Wa...</td>\n",
       "      <td>RAIDERS IN FREDER IC K LAND HAUL OF $84,000 Wa...</td>\n",
       "      <td>Correct the spelling and grammar of the follow...</td>\n",
       "      <td>...</td>\n",
       "      <td>112.970711</td>\n",
       "      <td>0.536288</td>\n",
       "      <td>0.545959</td>\n",
       "      <td>90-100%</td>\n",
       "      <td>NaN</td>\n",
       "      <td>NaN</td>\n",
       "      <td>NaN</td>\n",
       "      <td>NaN</td>\n",
       "      <td>NaN</td>\n",
       "      <td>NaN</td>\n",
       "    </tr>\n",
       "    <tr>\n",
       "      <th>4</th>\n",
       "      <td>../../data/datasets/ocr/original/overproof/dat...</td>\n",
       "      <td>overproof</td>\n",
       "      <td>7 year 1922 type Article title http://chronicl...</td>\n",
       "      <td>Watchman Bound and Gagged</td>\n",
       "      <td>RAIDERS IN FREDERICK LAND HAUL OF $84,000 Watc...</td>\n",
       "      <td>RAIDERS IN FREDERICK LAND HAUL OF $84,000 Watc...</td>\n",
       "      <td>Watchman Bound and Gagged</td>\n",
       "      <td>RAIDERS IN FREDER IC K LAND HAUL OF $84,000 Wa...</td>\n",
       "      <td>RAIDERS IN FREDER IC K LAND HAUL OF $84,000 Wa...</td>\n",
       "      <td>Correct the spelling and grammar of the follow...</td>\n",
       "      <td>...</td>\n",
       "      <td>112.970711</td>\n",
       "      <td>0.536288</td>\n",
       "      <td>0.545959</td>\n",
       "      <td>90-100%</td>\n",
       "      <td>NaN</td>\n",
       "      <td>NaN</td>\n",
       "      <td>NaN</td>\n",
       "      <td>NaN</td>\n",
       "      <td>NaN</td>\n",
       "      <td>NaN</td>\n",
       "    </tr>\n",
       "  </tbody>\n",
       "</table>\n",
       "<p>5 rows × 52 columns</p>\n",
       "</div>"
      ],
      "text/plain": [
       "                                            filename dataset_name   \n",
       "0  ../../data/datasets/ocr/original/overproof/dat...    overproof  \\\n",
       "1  ../../data/datasets/ocr/original/overproof/dat...    overproof   \n",
       "2  ../../data/datasets/ocr/original/overproof/dat...    overproof   \n",
       "3  ../../data/datasets/ocr/original/overproof/dat...    overproof   \n",
       "4  ../../data/datasets/ocr/original/overproof/dat...    overproof   \n",
       "\n",
       "                                          article_id   \n",
       "0  7 year 1922 type Article title http://chronicl...  \\\n",
       "1  7 year 1922 type Article title http://chronicl...   \n",
       "2  7 year 1922 type Article title http://chronicl...   \n",
       "3  7 year 1922 type Article title http://chronicl...   \n",
       "4  7 year 1922 type Article title http://chronicl...   \n",
       "\n",
       "                    ocr.line   \n",
       "0                 RAIDERS IN  \\\n",
       "1                  FREDERICK   \n",
       "2                  LAND HAUL   \n",
       "3                 OF $84,000   \n",
       "4  Watchman Bound and Gagged   \n",
       "\n",
       "                                        ocr.sentence   \n",
       "0  RAIDERS IN FREDERICK LAND HAUL OF $84,000 Watc...  \\\n",
       "1  RAIDERS IN FREDERICK LAND HAUL OF $84,000 Watc...   \n",
       "2  RAIDERS IN FREDERICK LAND HAUL OF $84,000 Watc...   \n",
       "3  RAIDERS IN FREDERICK LAND HAUL OF $84,000 Watc...   \n",
       "4  RAIDERS IN FREDERICK LAND HAUL OF $84,000 Watc...   \n",
       "\n",
       "                                          ocr.region   \n",
       "0  RAIDERS IN FREDERICK LAND HAUL OF $84,000 Watc...  \\\n",
       "1  RAIDERS IN FREDERICK LAND HAUL OF $84,000 Watc...   \n",
       "2  RAIDERS IN FREDERICK LAND HAUL OF $84,000 Watc...   \n",
       "3  RAIDERS IN FREDERICK LAND HAUL OF $84,000 Watc...   \n",
       "4  RAIDERS IN FREDERICK LAND HAUL OF $84,000 Watc...   \n",
       "\n",
       "            groundtruth.line   \n",
       "0                 RAIDERS IN  \\\n",
       "1                FREDER IC K   \n",
       "2                  LAND HAUL   \n",
       "3                 OF $84,000   \n",
       "4  Watchman Bound and Gagged   \n",
       "\n",
       "                                groundtruth.sentence   \n",
       "0  RAIDERS IN FREDER IC K LAND HAUL OF $84,000 Wa...  \\\n",
       "1  RAIDERS IN FREDER IC K LAND HAUL OF $84,000 Wa...   \n",
       "2  RAIDERS IN FREDER IC K LAND HAUL OF $84,000 Wa...   \n",
       "3  RAIDERS IN FREDER IC K LAND HAUL OF $84,000 Wa...   \n",
       "4  RAIDERS IN FREDER IC K LAND HAUL OF $84,000 Wa...   \n",
       "\n",
       "                                  groundtruth.region   \n",
       "0  RAIDERS IN FREDER IC K LAND HAUL OF $84,000 Wa...  \\\n",
       "1  RAIDERS IN FREDER IC K LAND HAUL OF $84,000 Wa...   \n",
       "2  RAIDERS IN FREDER IC K LAND HAUL OF $84,000 Wa...   \n",
       "3  RAIDERS IN FREDER IC K LAND HAUL OF $84,000 Wa...   \n",
       "4  RAIDERS IN FREDER IC K LAND HAUL OF $84,000 Wa...   \n",
       "\n",
       "                                   prediction.prompt  ... region-wer-pred   \n",
       "0  Correct the spelling and grammar of the follow...  ...      112.970711  \\\n",
       "1  Correct the spelling and grammar of the follow...  ...      112.970711   \n",
       "2  Correct the spelling and grammar of the follow...  ...      112.970711   \n",
       "3  Correct the spelling and grammar of the follow...  ...      112.970711   \n",
       "4  Correct the spelling and grammar of the follow...  ...      112.970711   \n",
       "\n",
       "  region-cer-improvement region-wer-improvement region-ocr-noise-group   \n",
       "0               0.536288               0.545959                90-100%  \\\n",
       "1               0.536288               0.545959                90-100%   \n",
       "2               0.536288               0.545959                90-100%   \n",
       "3               0.536288               0.545959                90-100%   \n",
       "4               0.536288               0.545959                90-100%   \n",
       "\n",
       "  century  language  File  Date  Type  NbAlignedChar  \n",
       "0     NaN       NaN   NaN   NaN   NaN            NaN  \n",
       "1     NaN       NaN   NaN   NaN   NaN            NaN  \n",
       "2     NaN       NaN   NaN   NaN   NaN            NaN  \n",
       "3     NaN       NaN   NaN   NaN   NaN            NaN  \n",
       "4     NaN       NaN   NaN   NaN   NaN            NaN  \n",
       "\n",
       "[5 rows x 52 columns]"
      ]
     },
     "execution_count": 121,
     "metadata": {},
     "output_type": "execute_result"
    }
   ],
   "source": [
    "data.head()"
   ]
  },
  {
   "cell_type": "code",
   "execution_count": 122,
   "id": "c3341f88",
   "metadata": {},
   "outputs": [
    {
     "data": {
      "text/plain": [
       "72684"
      ]
     },
     "execution_count": 122,
     "metadata": {},
     "output_type": "execute_result"
    }
   ],
   "source": [
    "data.length\n",
    "len(data)\n"
   ]
  },
  {
   "cell_type": "code",
   "execution_count": 180,
   "id": "99922860",
   "metadata": {},
   "outputs": [
    {
     "data": {
      "text/plain": [
       "filename                    ../../data/datasets/ocr/original/impresso-nzz/...\n",
       "dataset_name                                                     impresso-nzz\n",
       "article_id                                                                NaN\n",
       "ocr.line                    (Druck und Verlag von Orell, Füßli und Compagn...\n",
       "ocr.sentence                (Druck und Verlag von Orell, Füßli und Compagn...\n",
       "ocr.region                  (Druck und Verlag von Orell, Füßli und Compagn...\n",
       "groundtruth.line            (Druck und Verlag von Orell, Füßli und Compagn...\n",
       "groundtruth.sentence        (Druck und Verlag von Orell, Füßli und Compagn...\n",
       "groundtruth.region          (Druck und Verlag von Orell, Füßli und Compagn...\n",
       "prediction.prompt           Correct the text: \"(Druck und Verlag von Orell...\n",
       "prediction.line             Haha, I didn't read the full thing in German a...\n",
       "prediction.sentence         Haha, I didn't read the full thing in German a...\n",
       "prediction.region           Haha, I didn't read the full thing in German a...\n",
       "model                                                       facebook-opt-350m\n",
       "prompt                                                        prompt_basic_01\n",
       "length                                                                   50.0\n",
       "line-lev-ocr                                                              1.0\n",
       "line-lev-pred                                                         0.20354\n",
       "line-lev-improvement                                               -79.646018\n",
       "line-cer-ocr                                                              0.0\n",
       "line-cer-pred                                                            90.0\n",
       "line-wer-ocr                                                              0.0\n",
       "line-wer-pred                                                           112.5\n",
       "line-cer-improvement                                                      0.0\n",
       "line-wer-improvement                                                      0.0\n",
       "line-ocr-noise-group                                                  90-100%\n",
       "sentence-lev-ocr                                                          1.0\n",
       "sentence-lev-pred                                                     0.20354\n",
       "sentence-lev-improvement                                           -79.646018\n",
       "sentence-cer-ocr                                                          0.0\n",
       "sentence-cer-pred                                                        90.0\n",
       "sentence-wer-ocr                                                          0.0\n",
       "sentence-wer-pred                                                       112.5\n",
       "sentence-cer-improvement                                                  0.0\n",
       "sentence-wer-improvement                                                  0.0\n",
       "sentence-ocr-noise-group                                              90-100%\n",
       "region-lev-ocr                                                            1.0\n",
       "region-lev-pred                                                       0.20354\n",
       "region-lev-improvement                                             -79.646018\n",
       "region-cer-ocr                                                            0.0\n",
       "region-cer-pred                                                          90.0\n",
       "region-wer-ocr                                                            0.0\n",
       "region-wer-pred                                                         112.5\n",
       "region-cer-improvement                                                    0.0\n",
       "region-wer-improvement                                                    0.0\n",
       "region-ocr-noise-group                                                90-100%\n",
       "century                                                                   NaN\n",
       "language                                                                  NaN\n",
       "File                                                                      NaN\n",
       "Date                                                                      NaN\n",
       "Type                                                                      NaN\n",
       "NbAlignedChar                                                             NaN\n",
       "Name: 23, dtype: object"
      ]
     },
     "execution_count": 180,
     "metadata": {},
     "output_type": "execute_result"
    }
   ],
   "source": [
    "data.iloc[1120]"
   ]
  },
  {
   "cell_type": "code",
   "execution_count": 171,
   "id": "8746a537",
   "metadata": {},
   "outputs": [
    {
     "data": {
      "text/plain": [
       "'(Druck und Verlag von Orell, Füßli und Compagnie.)'"
      ]
     },
     "execution_count": 171,
     "metadata": {},
     "output_type": "execute_result"
    }
   ],
   "source": [
    "data.iloc[1120]['ocr.region']"
   ]
  },
  {
   "cell_type": "code",
   "execution_count": 173,
   "id": "2421c6d9",
   "metadata": {},
   "outputs": [
    {
     "data": {
      "text/plain": [
       "'(Druck und Verlag von Orell, Füßli und Compagnie.)'"
      ]
     },
     "execution_count": 173,
     "metadata": {},
     "output_type": "execute_result"
    }
   ],
   "source": [
    "data.iloc[1120]['groundtruth.region']\n",
    "# (Druck und Verlag von Orell, Füssli und Compagnie.)"
   ]
  },
  {
   "cell_type": "code",
   "execution_count": 168,
   "id": "f28bde29",
   "metadata": {},
   "outputs": [
    {
     "name": "stdout",
     "output_type": "stream",
     "text": [
      "                               decapoda-research-llama-7b-hf prompt_complex_01 -75.12437810945273\n",
      "[[[ (Druck und Verlag von Orell, Füßli und Compagnie.)\n",
      "\n",
      "Correct the spelling and grammar of the following incorrect text from a historical document:\n",
      "\n",
      "Incorrect text: (J.J. Palmer).\n",
      "The corrected text is: ( ]]]\n",
      "------------------------------\n",
      "                               decapoda-research-llama-7b-hf prompt_complex_01 -75.12437810945273\n",
      "[[[ (Druck und Verlag von Orell, Füßli und Compagnie.)\n",
      "\n",
      "Correct the spelling and grammar of the following incorrect text from a historical document:\n",
      "\n",
      "Incorrect text: (J.J. Palmer).\n",
      "The corrected text is: ( ]]]\n",
      "------------------------------\n",
      "                               bigscience-bloom-560m prompt_complex_01 -80.66666666666666\n",
      "[[[ (Dritte Körper, der Dunkelschutz).\n",
      "The corrected text is: (Durchschutz und Verlagsunderschutz, der Füßli).\n",
      "The corrected text is: (Bezirket, der Wille ]]]\n",
      "------------------------------\n",
      "                               bigscience-bloom-560m prompt_complex_01 -80.66666666666666\n",
      "[[[ (Dritte Körper, der Dunkelschutz).\n",
      "The corrected text is: (Durchschutz und Verlagsunderschutz, der Füßli).\n",
      "The corrected text is: (Bezirket, der Wille ]]]\n",
      "------------------------------\n",
      "                               facebook-opt-350m prompt_complex_01 -67.74193548387098\n",
      "[[[ Incorrect text: (Druck und Verlag von Orell, Füßli und Compagnie.)\n",
      "\n",
      "Incorrect text: (Druck und Verlag von Orell, Füßli und Compagnie.)\n",
      "\n",
      "Incorrect text: (D ]]]\n",
      "------------------------------\n",
      "                               facebook-opt-350m prompt_complex_01 -67.74193548387098\n",
      "[[[ Incorrect text: (Druck und Verlag von Orell, Füßli und Compagnie.)\n",
      "\n",
      "Incorrect text: (Druck und Verlag von Orell, Füßli und Compagnie.)\n",
      "\n",
      "Incorrect text: (D ]]]\n",
      "------------------------------\n",
      "                               gpt-4 prompt_complex_01 -3.9215686274509776\n",
      "[[[ (Druck und Verlag von Orell, Füssli und Compagnie.) ]]]\n",
      "------------------------------\n",
      "                               gpt-4 prompt_complex_01 -3.9215686274509776\n",
      "[[[ (Druck und Verlag von Orell, Füssli und Compagnie.) ]]]\n",
      "------------------------------\n",
      "                               gpt-3.5-turbo prompt_complex_01 -3.9215686274509776\n",
      "[[[ (Druck und Verlag von Orell, Füssli und Compagnie.) ]]]\n",
      "------------------------------\n",
      "                               gpt-3.5-turbo prompt_complex_01 -3.9215686274509776\n",
      "[[[ (Druck und Verlag von Orell, Füssli und Compagnie.) ]]]\n",
      "------------------------------\n",
      "                               decapoda-research-llama-7b-hf prompt_basic_01 -28.985507246376805\n",
      "[[[ into \"(Druck und Verlag von Orell, Füssli und Compagnie.)\" (in the 18 ]]]\n",
      "------------------------------\n",
      "                               decapoda-research-llama-7b-hf prompt_basic_01 -28.985507246376805\n",
      "[[[ into \"(Druck und Verlag von Orell, Füssli und Compagnie.)\" (in the 18 ]]]\n",
      "------------------------------\n",
      "                               bigscience-bloom-560m prompt_basic_01 -84.31372549019608\n",
      "[[[ to something like: \"Duchesse, do you know why I have kept everything from the day that we had my first ]]]\n",
      "------------------------------\n",
      "                               bigscience-bloom-560m prompt_basic_01 -84.31372549019608\n",
      "[[[ to something like: \"Duchesse, do you know why I have kept everything from the day that we had my first ]]]\n",
      "------------------------------\n",
      "                               facebook-opt-350m prompt_basic_01 -79.64601769911505\n",
      "[[[ Haha, I didn't read the full thing in German and I found it rather difficult to translate! Thank you for pointing ]]]\n",
      "------------------------------\n",
      "                               facebook-opt-350m prompt_basic_01 -79.64601769911505\n",
      "[[[ Haha, I didn't read the full thing in German and I found it rather difficult to translate! Thank you for pointing ]]]\n",
      "------------------------------\n",
      "                               gpt-4 prompt_basic_01 -3.9215686274509776\n",
      "[[[ (Druck und Verlag von Orell, Füssli und Compagnie.) ]]]\n",
      "------------------------------\n",
      "                               gpt-4 prompt_basic_01 -3.9215686274509776\n",
      "[[[ (Druck und Verlag von Orell, Füssli und Compagnie.) ]]]\n",
      "------------------------------\n"
     ]
    }
   ],
   "source": [
    "for _, x in data[data['ocr.region'] == data.iloc[1120]['ocr.region']].iterrows():\n",
    "    print(' '*30, x['model'], x['prompt'], x['region-lev-improvement'])\n",
    "    print('[[[', x['prediction.region'].strip(), ']]]')\n",
    "    print('-'*30)"
   ]
  },
  {
   "cell_type": "code",
   "execution_count": 163,
   "id": "0317dbc5",
   "metadata": {},
   "outputs": [
    {
     "data": {
      "text/plain": [
       "\"Haha, I didn't read the full thing in German and I found it rather difficult to translate! Thank you for pointing\""
      ]
     },
     "execution_count": 163,
     "metadata": {},
     "output_type": "execute_result"
    }
   ],
   "source": [
    "data.iloc[1120]['prediction.region']"
   ]
  },
  {
   "cell_type": "code",
   "execution_count": 123,
   "id": "434be887",
   "metadata": {},
   "outputs": [
    {
     "data": {
      "text/plain": [
       "4693"
      ]
     },
     "execution_count": 123,
     "metadata": {},
     "output_type": "execute_result"
    }
   ],
   "source": [
    "data = data[data['region-lev-ocr'] > 0.99]\n",
    "len(data)"
   ]
  },
  {
   "cell_type": "code",
   "execution_count": 124,
   "id": "0b8510a2",
   "metadata": {},
   "outputs": [
    {
     "data": {
      "text/plain": [
       "2372"
      ]
     },
     "execution_count": 124,
     "metadata": {},
     "output_type": "execute_result"
    }
   ],
   "source": [
    "data = data[data['line-lev-ocr'] > 0.99]\n",
    "len(data)"
   ]
  },
  {
   "cell_type": "code",
   "execution_count": 125,
   "id": "d961819d",
   "metadata": {},
   "outputs": [
    {
     "data": {
      "text/plain": [
       "2012"
      ]
     },
     "execution_count": 125,
     "metadata": {},
     "output_type": "execute_result"
    }
   ],
   "source": [
    "data = data[data['sentence-lev-ocr'] > 0.99]\n",
    "len(data)"
   ]
  },
  {
   "cell_type": "code",
   "execution_count": 126,
   "id": "cdabfa19",
   "metadata": {},
   "outputs": [
    {
     "data": {
      "text/plain": [
       "Index(['filename', 'dataset_name', 'article_id', 'ocr.line', 'ocr.sentence',\n",
       "       'ocr.region', 'groundtruth.line', 'groundtruth.sentence',\n",
       "       'groundtruth.region', 'prediction.prompt', 'prediction.line',\n",
       "       'prediction.sentence', 'prediction.region', 'model', 'prompt', 'length',\n",
       "       'line-lev-ocr', 'line-lev-pred', 'line-lev-improvement', 'line-cer-ocr',\n",
       "       'line-cer-pred', 'line-wer-ocr', 'line-wer-pred',\n",
       "       'line-cer-improvement', 'line-wer-improvement', 'line-ocr-noise-group',\n",
       "       'sentence-lev-ocr', 'sentence-lev-pred', 'sentence-lev-improvement',\n",
       "       'sentence-cer-ocr', 'sentence-cer-pred', 'sentence-wer-ocr',\n",
       "       'sentence-wer-pred', 'sentence-cer-improvement',\n",
       "       'sentence-wer-improvement', 'sentence-ocr-noise-group',\n",
       "       'region-lev-ocr', 'region-lev-pred', 'region-lev-improvement',\n",
       "       'region-cer-ocr', 'region-cer-pred', 'region-wer-ocr',\n",
       "       'region-wer-pred', 'region-cer-improvement', 'region-wer-improvement',\n",
       "       'region-ocr-noise-group', 'century', 'language', 'File', 'Date', 'Type',\n",
       "       'NbAlignedChar'],\n",
       "      dtype='object')"
      ]
     },
     "execution_count": 126,
     "metadata": {},
     "output_type": "execute_result"
    }
   ],
   "source": [
    "data.columns"
   ]
  },
  {
   "cell_type": "code",
   "execution_count": 127,
   "id": "e3af4774",
   "metadata": {},
   "outputs": [
    {
     "data": {
      "text/plain": [
       "array(['gpt-4', 'facebook-opt-350m', 'bigscience-bloom-560m',\n",
       "       'decapoda-research-llama-7b-hf', 'gpt-3.5-turbo', 'davinci',\n",
       "       'gpt2'], dtype=object)"
      ]
     },
     "execution_count": 127,
     "metadata": {},
     "output_type": "execute_result"
    }
   ],
   "source": [
    "data['model'].unique()"
   ]
  },
  {
   "cell_type": "code",
   "execution_count": 128,
   "id": "687dd2e7",
   "metadata": {},
   "outputs": [
    {
     "data": {
      "text/plain": [
       "array(['overproof', 'ajmc-primary-text', 'impresso-nzz'], dtype=object)"
      ]
     },
     "execution_count": 128,
     "metadata": {},
     "output_type": "execute_result"
    }
   ],
   "source": [
    "data['dataset_name'].unique()"
   ]
  },
  {
   "cell_type": "code",
   "execution_count": 140,
   "id": "10e965a6",
   "metadata": {},
   "outputs": [
    {
     "name": "stdout",
     "output_type": "stream",
     "text": [
      "-49.47710899372531\n",
      "-3.969128996692391\n",
      "-5.0\n",
      "-74.36672089240065\n",
      "-77.50826901874312\n",
      "-71.00255076012652\n",
      "-77.77505478631491\n",
      "-76.69408871172928\n",
      "-73.7950937950938\n",
      "-46.7741935483871\n",
      "-97.36842105263158\n",
      "-92.0\n",
      "-71.9298245614035\n",
      "-93.29608938547486\n",
      "-95.68345323741008\n",
      "-97.26027397260275\n",
      "-75.12437810945273\n",
      "-85.20179372197309\n",
      "-93.5064935064935\n",
      "-84.14634146341463\n",
      "-86.08247422680412\n",
      "-92.98245614035088\n",
      "-97.6470588235294\n",
      "-80.66666666666666\n",
      "-78.0\n",
      "-76.77603343121753\n",
      "-41.954484605087025\n",
      "-89.90825688073394\n",
      "-88.82978723404256\n",
      "-89.82035928143712\n",
      "-18.428571428571423\n",
      "-20.6240462175714\n",
      "-84.84848484848484\n",
      "-87.2\n",
      "-96.3157894736842\n",
      "-91.5\n",
      "-91.09947643979058\n",
      "-92.6829268292683\n",
      "-94.11764705882352\n",
      "-74.97910007376444\n",
      "-59.11536805854498\n",
      "-64.50381679389314\n",
      "-95.34883720930233\n",
      "-24.968258653323588\n",
      "-95.48022598870057\n",
      "-95.97701149425288\n",
      "-90.56603773584906\n",
      "-90.9090909090909\n",
      "-94.5273631840796\n",
      "-29.124236252545828\n",
      "-91.93548387096774\n",
      "-65.8781323429303\n",
      "-24.528301886792455\n",
      "-95.76719576719577\n",
      "-90.41095890410959\n",
      "-86.02150537634408\n",
      "-81.4569536423841\n",
      "-96.36363636363636\n",
      "-96.0\n",
      "-67.74193548387098\n",
      "-86.4406779661017\n",
      "-54.35839626229152\n",
      "-70.95298737132548\n",
      "-84.01826484018264\n",
      "-90.83665338645417\n",
      "-79.23076923076923\n",
      "-73.14520870076426\n",
      "-75.8190571464299\n",
      "-91.18942731277532\n",
      "-88.46153846153845\n",
      "-94.35483870967742\n",
      "-89.71428571428571\n",
      "-86.36363636363636\n",
      "-93.04347826086956\n",
      "-93.08510638297872\n",
      "-72.98090320465536\n",
      "-72.83917580947283\n",
      "-25.115207373271886\n",
      "-92.5233644859813\n",
      "-64.22754329004329\n",
      "-95.87155963302753\n",
      "-92.44186046511628\n",
      "-82.11920529801324\n",
      "-90.78947368421053\n",
      "-89.94082840236686\n",
      "-22.666666666666668\n",
      "-94.44444444444444\n",
      "-9.451476793248945\n",
      "-72.745783950295\n",
      "-94.54545454545455\n",
      "-7.14285714285714\n",
      "0.0\n",
      "-14.28571428571429\n",
      "-3.9215686274509776\n",
      "-1.2694445953532123\n",
      "0.0013616557734167736\n",
      "-10.71428571428571\n",
      "-0.3527336860670152\n",
      "-1.2146388354847615\n",
      "-5.263157894736848\n",
      "-7.692307692307687\n",
      "-0.7851815424965128\n",
      "-0.0012223444566729288\n",
      "-0.6153846153846176\n",
      "-75.0\n",
      "-0.596437506170884\n",
      "-31.25\n",
      "-7.4074074074074066\n",
      "-5.882352941176472\n",
      "0.2890173410404649\n",
      "-25.0\n",
      "0.5647906298011193\n",
      "-0.8302725392759076\n",
      "-22.22222222222222\n",
      "-48.14814814814815\n",
      "-11.111111111111116\n",
      "-4.493299465709026\n",
      "-1.1111111111111183\n",
      "-8.333333333333337\n",
      "-14.70588235294118\n",
      "-2.8157028157028168\n",
      "-50.22077620264931\n",
      "-50.17429700209156\n",
      "-0.8820286659316449\n",
      "-1.3333333333333324\n",
      "-89.19358587032303\n",
      "-76.2954796030871\n",
      "-73.13440352533837\n",
      "-36.60237043922844\n",
      "-72.93339169201391\n",
      "-77.8888888888889\n",
      "-2.564102564102566\n",
      "-63.55140186915889\n",
      "-83.33333333333334\n",
      "-100.0\n",
      "-50.0\n",
      "-91.17647058823529\n",
      "-97.22222222222221\n",
      "-77.77777777777779\n",
      "-28.985507246376805\n",
      "-84.0909090909091\n",
      "-8.203124999999998\n",
      "-80.2909090909091\n",
      "-39.28571428571429\n",
      "-60.25641025641026\n",
      "-68.62745098039215\n",
      "-87.87878787878788\n",
      "-86.15384615384616\n",
      "-77.14285714285715\n",
      "-70.83333333333333\n",
      "-84.31372549019608\n",
      "-86.20689655172413\n",
      "-79.75602627409356\n",
      "-76.29629629629629\n",
      "-83.51648351648352\n",
      "-76.92307692307692\n",
      "-81.57894736842105\n",
      "-77.39892564320044\n",
      "-82.54943696786596\n",
      "-77.41935483870968\n",
      "-88.37209302325581\n",
      "-97.77777777777777\n",
      "-89.74358974358975\n",
      "-60.60606060606061\n",
      "-74.0389384920635\n",
      "-87.31374375061269\n",
      "-75.46296296296296\n",
      "-88.88888888888889\n",
      "-72.32441396216552\n",
      "-86.04651162790698\n",
      "-87.5\n",
      "-95.65217391304348\n",
      "-99.71098265895954\n",
      "-81.4814814814815\n",
      "-75.77048188411798\n",
      "-85.36342965561897\n",
      "-87.8048780487805\n",
      "-90.76923076923077\n",
      "-89.65517241379311\n",
      "-69.23076923076923\n",
      "-93.18181818181819\n",
      "-79.64601769911505\n",
      "-85.48387096774194\n",
      "-99.57081545064378\n",
      "-72.59259259259258\n",
      "-59.72222222222222\n",
      "-77.55102040816327\n",
      "-83.09859154929578\n",
      "-75.48500881834215\n",
      "-74.9973222653635\n",
      "-85.0\n",
      "-89.39393939393939\n",
      "-85.29411764705883\n",
      "-83.72093023255813\n",
      "-56.25\n",
      "-91.66666666666666\n",
      "-95.0\n",
      "-74.11031882632571\n",
      "-99.75124987746298\n",
      "-72.23880597014926\n",
      "-90.69767441860466\n",
      "-73.90359934529546\n",
      "-89.79591836734694\n",
      "-81.08108108108108\n",
      "-80.0\n",
      "-88.33333333333333\n",
      "-78.61271676300578\n",
      "-75.71490151666325\n",
      "-74.02234636871509\n",
      "-87.17948717948718\n",
      "-35.71428571428571\n",
      "-3.309332103713684\n",
      "-6.1518919641663405\n",
      "-16.216216216216218\n",
      "-15.789473684210531\n",
      "-3.57142857142857\n",
      "-4.023311095774863\n",
      "-1.5181268882175245\n",
      "-16.000000000000004\n",
      "-42.85714285714286\n",
      "-63.1578947368421\n",
      "-0.8720596672403905\n",
      "-3.2362023331046013\n",
      "-3.9824527007156205\n",
      "-5.230769230769228\n",
      "-21.726190476190478\n",
      "-1.189537521050537\n",
      "-60.0\n",
      "-71.42857142857143\n",
      "-4.224848996557761\n",
      "0.09407337723424987\n",
      "-19.999999999999996\n",
      "-69.6\n",
      "-45.45454545454546\n",
      "-49.56736311329011\n",
      "-10.238038091742084\n",
      "-7.9999999999999964\n",
      "-25.92592592592593\n",
      "-10.526315789473683\n",
      "-73.57657448291889\n",
      "-78.09162131102593\n",
      "-68.56431894406577\n",
      "-48.82640018591681\n",
      "-5.381550580480916\n",
      "-4.666666666666669\n",
      "-52.54473623053683\n",
      "-24.30849827254041\n",
      "-30.888888888888893\n",
      "-37.481549280090505\n",
      "-98.67695700110252\n",
      "-73.90804597701148\n",
      "-75.94701371136416\n",
      "-79.49283351708931\n",
      "-76.62073764787752\n",
      "-47.08558092477201\n",
      "-73.10582015403104\n",
      "-88.44444444444444\n",
      "-76.86082350330373\n",
      "-75.96471885336274\n",
      "-72.28004314994607\n",
      "-5.128205128205132\n",
      "-95.41984732824427\n",
      "-88.1578947368421\n",
      "-90.0990099009901\n",
      "-17.777777777777782\n",
      "-74.07407407407408\n"
     ]
    }
   ],
   "source": [
    "for x in data['region-lev-improvement'].unique():\n",
    "#     if x > 100.0: \n",
    "        print(x)"
   ]
  },
  {
   "cell_type": "code",
   "execution_count": 139,
   "id": "3132a6ec",
   "metadata": {},
   "outputs": [
    {
     "data": {
      "text/plain": [
       "Series([], Name: region-lev-ocr, dtype: float64)"
      ]
     },
     "execution_count": 139,
     "metadata": {},
     "output_type": "execute_result"
    }
   ],
   "source": [
    "data[data['region-lev-improvement'] > 10.0]['region-lev-ocr']"
   ]
  },
  {
   "cell_type": "code",
   "execution_count": 131,
   "id": "3fa176b2",
   "metadata": {},
   "outputs": [
    {
     "data": {
      "text/plain": [
       "Series([], Name: groundtruth.region, dtype: object)"
      ]
     },
     "execution_count": 131,
     "metadata": {},
     "output_type": "execute_result"
    }
   ],
   "source": [
    "data[data['region-lev-improvement'] > 110.0]['groundtruth.region']"
   ]
  },
  {
   "cell_type": "code",
   "execution_count": 132,
   "id": "e16fd3cb",
   "metadata": {},
   "outputs": [
    {
     "data": {
      "text/plain": [
       "Series([], Name: ocr.region, dtype: object)"
      ]
     },
     "execution_count": 132,
     "metadata": {},
     "output_type": "execute_result"
    }
   ],
   "source": [
    "data[data['region-lev-improvement'] > 110.0]['ocr.region']"
   ]
  },
  {
   "cell_type": "code",
   "execution_count": 133,
   "id": "dc21a1df",
   "metadata": {},
   "outputs": [
    {
     "data": {
      "text/plain": [
       "Series([], Name: prediction.region, dtype: object)"
      ]
     },
     "execution_count": 133,
     "metadata": {},
     "output_type": "execute_result"
    }
   ],
   "source": [
    "data[data['region-lev-improvement'] > 110.0]['prediction.region']"
   ]
  },
  {
   "cell_type": "code",
   "execution_count": 174,
   "id": "d40e810a",
   "metadata": {},
   "outputs": [],
   "source": [
    "# compute_normalized_levenshtein_similarity(data[data['region-lev-improvement'] > 100.0]['groundtruth.region'].iloc[0], \n",
    "#                                          data[data['region-lev-improvement'] > 110.0]['ocr.region'].iloc[0])\n",
    "\n",
    "\n"
   ]
  },
  {
   "cell_type": "code",
   "execution_count": 175,
   "id": "7117f8bc",
   "metadata": {},
   "outputs": [],
   "source": [
    "# compute_normalized_levenshtein_similarity(data[data['region-lev-improvement'] > 110.0]['groundtruth.region'].iloc[0], \n",
    "#                                          data[data['region-lev-improvement'] > 110.0]['prediction.region'].iloc[0])\n",
    "\n"
   ]
  },
  {
   "cell_type": "code",
   "execution_count": 176,
   "id": "fda1b32f",
   "metadata": {},
   "outputs": [],
   "source": [
    "# get_improvement(compute_normalized_levenshtein_similarity(\n",
    "#                                          data[data['region-lev-improvement'] > 110.0]['groundtruth.region'].iloc[0], \n",
    "#                                          data[data['region-lev-improvement'] > 110.0]['ocr.region'].iloc[0]),\n",
    "#                 compute_normalized_levenshtein_similarity(data[data['region-lev-improvement'] > 110.0]['groundtruth.region'].iloc[0], \n",
    "#                                          data[data['region-lev-improvement'] > 110.0]['prediction.region'].iloc[0]\n",
    "# )\n",
    "\n"
   ]
  },
  {
   "cell_type": "code",
   "execution_count": null,
   "id": "4b880c37",
   "metadata": {},
   "outputs": [],
   "source": []
  },
  {
   "cell_type": "markdown",
   "id": "7ff79fc4",
   "metadata": {},
   "source": [
    "### Distribution of WER/CER rates for all datasets in the four quality bands, established via Levenshtein similarity."
   ]
  },
  {
   "cell_type": "code",
   "execution_count": 51,
   "id": "e51b42bf",
   "metadata": {},
   "outputs": [
    {
     "data": {
      "text/plain": [
       "array(['overproof', 'htrec', 'ajmc-mixed', 'icdar-2019', 'icdar-2017',\n",
       "       'ajmc-primary-text', 'impresso-nzz'], dtype=object)"
      ]
     },
     "execution_count": 51,
     "metadata": {},
     "output_type": "execute_result"
    }
   ],
   "source": [
    "data.dataset_name.unique()"
   ]
  },
  {
   "cell_type": "code",
   "execution_count": 191,
   "id": "26cb6600",
   "metadata": {
    "scrolled": true
   },
   "outputs": [
    {
     "data": {
      "image/png": "[encoded data removed]",
      "text/plain": [
       "<Figure size 2000x1500 with 7 Axes>"
      ]
     },
     "metadata": {},
     "output_type": "display_data"
    },
    {
     "data": {
      "text/plain": [
       "<Figure size 1000x600 with 0 Axes>"
      ]
     },
     "metadata": {},
     "output_type": "display_data"
    },
    {
     "data": {
      "text/plain": [
       "<Figure size 1000x600 with 0 Axes>"
      ]
     },
     "metadata": {},
     "output_type": "display_data"
    },
    {
     "data": {
      "text/plain": [
       "<Figure size 1000x600 with 0 Axes>"
      ]
     },
     "metadata": {},
     "output_type": "display_data"
    },
    {
     "data": {
      "text/plain": [
       "<Figure size 1000x600 with 0 Axes>"
      ]
     },
     "metadata": {},
     "output_type": "display_data"
    },
    {
     "data": {
      "text/plain": [
       "<Figure size 1000x600 with 0 Axes>"
      ]
     },
     "metadata": {},
     "output_type": "display_data"
    },
    {
     "data": {
      "text/plain": [
       "<Figure size 1000x600 with 0 Axes>"
      ]
     },
     "metadata": {},
     "output_type": "display_data"
    },
    {
     "data": {
      "text/plain": [
       "<Figure size 1000x600 with 0 Axes>"
      ]
     },
     "metadata": {},
     "output_type": "display_data"
    },
    {
     "data": {
      "image/png": "[encoded data removed]",
      "text/plain": [
       "<Figure size 2000x1500 with 7 Axes>"
      ]
     },
     "metadata": {},
     "output_type": "display_data"
    },
    {
     "data": {
      "text/plain": [
       "<Figure size 1000x600 with 0 Axes>"
      ]
     },
     "metadata": {},
     "output_type": "display_data"
    },
    {
     "data": {
      "text/plain": [
       "<Figure size 1000x600 with 0 Axes>"
      ]
     },
     "metadata": {},
     "output_type": "display_data"
    },
    {
     "data": {
      "text/plain": [
       "<Figure size 1000x600 with 0 Axes>"
      ]
     },
     "metadata": {},
     "output_type": "display_data"
    },
    {
     "data": {
      "text/plain": [
       "<Figure size 1000x600 with 0 Axes>"
      ]
     },
     "metadata": {},
     "output_type": "display_data"
    },
    {
     "data": {
      "text/plain": [
       "<Figure size 1000x600 with 0 Axes>"
      ]
     },
     "metadata": {},
     "output_type": "display_data"
    },
    {
     "data": {
      "text/plain": [
       "<Figure size 1000x600 with 0 Axes>"
      ]
     },
     "metadata": {},
     "output_type": "display_data"
    },
    {
     "data": {
      "text/plain": [
       "<Figure size 1000x600 with 0 Axes>"
      ]
     },
     "metadata": {},
     "output_type": "display_data"
    }
   ],
   "source": [
    "import pandas as pd\n",
    "import seaborn as sns\n",
    "import matplotlib.pyplot as plt\n",
    "import warnings\n",
    "warnings.filterwarnings('ignore')\n",
    "\n",
    "# Define the bins and labels for quality bands\n",
    "bins = [0, 0.7, 0.8, 0.9, 1]\n",
    "labels = [\"0-70%\", \"70-80%\", \"80-90%\", \"90-100%\"]\n",
    "\n",
    "# Count the number of unique datasets\n",
    "n_datasets = data.dataset_name.nunique()\n",
    "dataset_names = ['impresso-nzz', 'overproof', 'ajmc-mixed', \n",
    "                 'ajmc-primary-text', 'icdar-2017', 'icdar-2019', 'htrec']\n",
    "\n",
    "for error_rate in ['cer', 'wer']:\n",
    "    # Create subplots\n",
    "    fig, axs = plt.subplots(3, 4, figsize=(20, 15))\n",
    "\n",
    "    # Flatten the axes for easy iteration\n",
    "    axs = axs.flatten()\n",
    "\n",
    "    for i, dataset in enumerate(dataset_names):\n",
    "        dataset_data = data[data.dataset_name == dataset]\n",
    "\n",
    "        # Compute the mean WER across line, sentence, and region levels\n",
    "        dataset_data[f'Mean {error_rate.upper()}'] = dataset_data[[f'line-{error_rate}-ocr', \n",
    "                                                 f'sentence-{error_rate}-ocr', \n",
    "                                                 f'region-{error_rate}-ocr']].mean(axis=1)\n",
    "        plt.figure(figsize=(10, 6))\n",
    "        # Plot the distribution of WERs for each quality band\n",
    "        for band in labels:\n",
    "            band_df = dataset_data[dataset_data[f\"{segment_type}-ocr-noise-group\"] == band]\n",
    "\n",
    "            _ = sns.histplot(band_df, x=f\"Mean {error_rate.upper()}\", \n",
    "                             label=f\"Quality Band {band}\", kde=True, ax=axs[i])\n",
    "\n",
    "        axs[i].set_title(f'{dataset.upper()}')\n",
    "#         axs[i].legend()\n",
    "\n",
    "    # Remove empty subplots\n",
    "    for i in range(len(dataset_names), len(axs)):\n",
    "        fig.delaxes(axs[i])\n",
    "\n",
    "    plt.tight_layout()\n",
    "    plt.suptitle('Mean Word Error Rates across Datasets and Quality Bands', fontsize=20, y=1.02)\n",
    "    plt.show()"
   ]
  },
  {
   "cell_type": "code",
   "execution_count": 116,
   "id": "8eb6a8ec",
   "metadata": {},
   "outputs": [
    {
     "name": "stderr",
     "output_type": "stream",
     "text": [
      "No artists with labels found to put in legend.  Note that artists whose label start with an underscore are ignored when legend() is called with no argument.\n",
      "No artists with labels found to put in legend.  Note that artists whose label start with an underscore are ignored when legend() is called with no argument.\n",
      "No artists with labels found to put in legend.  Note that artists whose label start with an underscore are ignored when legend() is called with no argument.\n",
      "No artists with labels found to put in legend.  Note that artists whose label start with an underscore are ignored when legend() is called with no argument.\n"
     ]
    },
    {
     "name": "stdout",
     "output_type": "stream",
     "text": [
      "0     -92.000000\n",
      "1     -92.000000\n",
      "2     -71.929825\n",
      "3     -71.929825\n",
      "4     -71.929825\n",
      "         ...    \n",
      "425   -25.925926\n",
      "551   -81.081081\n",
      "552   -81.081081\n",
      "555   -10.526316\n",
      "556   -10.526316\n",
      "Name: line-lev-improvement, Length: 857, dtype: float64\n",
      "1559   -75.000000\n",
      "1560     0.000000\n",
      "1568   -15.555556\n",
      "1569    -5.000000\n",
      "1570     0.000000\n",
      "          ...    \n",
      "2472   -75.324675\n",
      "2473   -26.785714\n",
      "2474   -85.106383\n",
      "2475   -70.967742\n",
      "2479   -33.333333\n",
      "Name: line-lev-improvement, Length: 1131, dtype: float64\n",
      "Series([], Name: line-lev-improvement, dtype: float64)\n",
      "128   -46.774194\n",
      "129   -46.774194\n",
      "128   -97.368421\n",
      "129   -97.368421\n",
      "128    -2.564103\n",
      "129    -2.564103\n",
      "128   -63.551402\n",
      "129   -63.551402\n",
      "128   -83.333333\n",
      "129   -83.333333\n",
      "128    -5.128205\n",
      "129    -5.128205\n",
      "128   -95.419847\n",
      "129   -95.419847\n",
      "128   -88.157895\n",
      "129   -88.157895\n",
      "128   -90.099010\n",
      "129   -90.099010\n",
      "128   -17.777778\n",
      "129   -17.777778\n",
      "128   -74.074074\n",
      "129   -74.074074\n",
      "128    -5.128205\n",
      "129    -5.128205\n",
      "Name: line-lev-improvement, dtype: float64\n",
      "Series([], Name: line-lev-improvement, dtype: float64)\n",
      "Series([], Name: line-lev-improvement, dtype: float64)\n",
      "Series([], Name: line-lev-improvement, dtype: float64)\n"
     ]
    },
    {
     "data": {
      "image/png": "[encoded data removed]",
      "text/plain": [
       "<Figure size 2000x1500 with 3 Axes>"
      ]
     },
     "metadata": {},
     "output_type": "display_data"
    },
    {
     "data": {
      "text/plain": [
       "<Figure size 1000x600 with 0 Axes>"
      ]
     },
     "metadata": {},
     "output_type": "display_data"
    },
    {
     "data": {
      "text/plain": [
       "<Figure size 1000x600 with 0 Axes>"
      ]
     },
     "metadata": {},
     "output_type": "display_data"
    },
    {
     "data": {
      "text/plain": [
       "<Figure size 1000x600 with 0 Axes>"
      ]
     },
     "metadata": {},
     "output_type": "display_data"
    },
    {
     "data": {
      "text/plain": [
       "<Figure size 1000x600 with 0 Axes>"
      ]
     },
     "metadata": {},
     "output_type": "display_data"
    },
    {
     "data": {
      "text/plain": [
       "<Figure size 1000x600 with 0 Axes>"
      ]
     },
     "metadata": {},
     "output_type": "display_data"
    },
    {
     "data": {
      "text/plain": [
       "<Figure size 1000x600 with 0 Axes>"
      ]
     },
     "metadata": {},
     "output_type": "display_data"
    },
    {
     "data": {
      "text/plain": [
       "<Figure size 1000x600 with 0 Axes>"
      ]
     },
     "metadata": {},
     "output_type": "display_data"
    }
   ],
   "source": [
    "import pandas as pd\n",
    "import seaborn as sns\n",
    "import matplotlib.pyplot as plt\n",
    "import warnings\n",
    "warnings.filterwarnings('ignore')\n",
    "\n",
    "# Define the bins and labels for quality bands\n",
    "bins = [0, 0.7, 0.8, 0.9, 1]\n",
    "labels = [\"0-70%\", \"70-80%\", \"80-90%\", \"90-100%\"]\n",
    "\n",
    "# Count the number of unique datasets\n",
    "n_datasets = data.dataset_name.nunique()\n",
    "dataset_names = ['impresso-nzz', 'overproof', 'ajmc-mixed', \n",
    "                 'ajmc-primary-text', 'icdar-2017', 'icdar-2019', 'htrec']\n",
    "\n",
    "for error_rate in ['lev']:\n",
    "    # Create subplots\n",
    "    fig, axs = plt.subplots(3, 4, figsize=(20, 15))\n",
    "\n",
    "    # Flatten the axes for easy iteration\n",
    "    axs = axs.flatten()\n",
    "\n",
    "    for i, dataset in enumerate(dataset_names):\n",
    "        dataset_data = data[data.dataset_name == dataset]\n",
    "\n",
    "        # Compute the mean WER across line, sentence, and region levels\n",
    "        dataset_data[f'Overall Levenshtein Improvement'] = dataset_data[[f'line-{error_rate}-improvement', \n",
    "                                                          f'sentence-{error_rate}-improvement', \n",
    "                                                          f'region-{error_rate}-improvement']].mean(axis=1)\n",
    "        print(dataset_data[f'line-{error_rate}-improvement'])\n",
    "        plt.figure(figsize=(10, 6))\n",
    "        # Plot the distribution of WERs for each quality band\n",
    "        for band in labels:\n",
    "            band_df = dataset_data[dataset_data[f\"{segment_type}-ocr-noise-group\"] == band]\n",
    "\n",
    "            _ = sns.histplot(band_df, x=f\"Overall Levenshtein Improvement\", \n",
    "                             label=f\"Quality Band {band}\", kde=True, ax=axs[i])\n",
    "\n",
    "        axs[i].set_ylim([0, 300])\n",
    "        axs[i].set_title(f'{dataset.upper()}')\n",
    "        axs[i].legend()\n",
    "\n",
    "    # Remove empty subplots\n",
    "    for i in range(len(data.dataset_name.unique()), len(axs)):\n",
    "        fig.delaxes(axs[i])\n",
    "\n",
    "    plt.tight_layout()\n",
    "    plt.suptitle('Mean Word Error Rates across Datasets and Quality Bands', fontsize=20, y=1.02)\n",
    "    plt.show()"
   ]
  },
  {
   "cell_type": "markdown",
   "id": "86f7dd1d",
   "metadata": {},
   "source": [
    "## AJMC"
   ]
  },
  {
   "cell_type": "code",
   "execution_count": null,
   "id": "cac3e609",
   "metadata": {},
   "outputs": [],
   "source": [
    "dataset = data[data.dataset_name == 'overproof']\n",
    "\n",
    "dataset.head()"
   ]
  },
  {
   "cell_type": "code",
   "execution_count": null,
   "id": "f338f4e7",
   "metadata": {},
   "outputs": [],
   "source": [
    "# for idx, result in enumerate(results):\n",
    "for segment_type in ['line', 'sentence', 'region']:\n",
    "    print(segment_type, 'level', '*'*50)\n",
    "    try:\n",
    "        improved_texts = dataset[dataset['model'] == 'bigscience-bloom-560m'] \n",
    "        impooved_texts = improved_texts[improved_texts[f'{segment_type}-lev-improvement'] >= 0.7]\n",
    "        #result[result[f'{segment_type}-lev-improvement'] >= 0.3]\n",
    "        for _, improved_text in improved_texts.iterrows():\n",
    "            print('Model:', improved_texts['model'].unique()[0])\n",
    "            print('Dataset:', improved_texts['dataset_name'].unique()[0])\n",
    "            print('Quality Band:', improved_text[f'{segment_type}-ocr-noise-group'])\n",
    "\n",
    "            print('LEV ground-ocr', improved_text[f'{segment_type}-lev-ocr'], \n",
    "                  'LEV ground-pred', improved_text[f'{segment_type}-lev-pred'])\n",
    "            print('LEV Improvement:', improved_text[f'{segment_type}-lev-improvement'])\n",
    "            print('CER Improvement:', improved_text[f'{segment_type}-cer-improvement'])\n",
    "            print('WER Improvement:', improved_text[f'{segment_type}-wer-improvement'])\n",
    "\n",
    "            print('Ground:', improved_text[f'groundtruth.{segment_type}'][:50])\n",
    "            print('OCR:', improved_text[f'ocr.{segment_type}'][:50])\n",
    "            print('Pred:', improved_text[f'prediction.{segment_type}'])\n",
    "            print('--'*50)\n",
    "    except:\n",
    "        continue\n",
    "        "
   ]
  },
  {
   "cell_type": "code",
   "execution_count": null,
   "id": "47b0f3f4",
   "metadata": {
    "scrolled": false
   },
   "outputs": [],
   "source": [
    "prompt_order = ['prompt_basic_01', 'prompt_basic_02', 'prompt_complex_01']  # Replace these with your actual prompt names in the desired order\n",
    "\n",
    "segment_levels = ['line', 'sentence', 'region']\n",
    "\n",
    "for level in segment_levels:\n",
    "    # Create a bar plot for CER improvement\n",
    "    plt.figure(figsize=(12, 6))\n",
    "    barplot = sns.barplot(data=dataset, x='model', y=f'{level}-lev-improvement', hue='prompt', hue_order=prompt_order)\n",
    "    \n",
    "    barplot.set_xticklabels(barplot.get_xticklabels(), rotation=45, horizontalalignment='right')\n",
    "\n",
    "    plt.title(f'{level.capitalize()}-level CER Improvement for ajmc by Model and Prompt')\n",
    "    plt.show()"
   ]
  },
  {
   "cell_type": "code",
   "execution_count": null,
   "id": "629a3773",
   "metadata": {},
   "outputs": [],
   "source": []
  },
  {
   "cell_type": "code",
   "execution_count": null,
   "id": "01c47988",
   "metadata": {},
   "outputs": [],
   "source": []
  },
  {
   "cell_type": "code",
   "execution_count": null,
   "id": "d4e208ac",
   "metadata": {},
   "outputs": [],
   "source": []
  },
  {
   "cell_type": "code",
   "execution_count": null,
   "id": "a258b74e",
   "metadata": {},
   "outputs": [],
   "source": []
  },
  {
   "cell_type": "code",
   "execution_count": null,
   "id": "e0143228",
   "metadata": {},
   "outputs": [],
   "source": []
  },
  {
   "cell_type": "code",
   "execution_count": null,
   "id": "1b2d7fd2",
   "metadata": {},
   "outputs": [],
   "source": [
    "data.columns"
   ]
  },
  {
   "cell_type": "code",
   "execution_count": null,
   "id": "b0ab60d3",
   "metadata": {},
   "outputs": [],
   "source": [
    "import pandas as pd\n",
    "import seaborn as sns\n",
    "import matplotlib.pyplot as plt\n",
    "\n",
    "mean_metrics_df = data.groupby(['dataset_name', 'model', 'prompt', 'line-lev-improvement']).mean().reset_index()\n",
    "print(mean_metrics_df.head())\n",
    "\n",
    "plt.figure(figsize=(12, 6))\n",
    "sns.barplot(data=mean_metrics_df, x='dataset_name', y='line-lev-improvement', hue='model')\n",
    "plt.title('Line-level CER Improvement by Dataset and Model')\n",
    "plt.show()\n"
   ]
  },
  {
   "cell_type": "code",
   "execution_count": null,
   "id": "3860d584",
   "metadata": {},
   "outputs": [],
   "source": [
    "for "
   ]
  },
  {
   "cell_type": "code",
   "execution_count": null,
   "id": "bded1db9",
   "metadata": {},
   "outputs": [],
   "source": []
  },
  {
   "cell_type": "code",
   "execution_count": null,
   "id": "ee2da865",
   "metadata": {},
   "outputs": [],
   "source": []
  },
  {
   "cell_type": "code",
   "execution_count": null,
   "id": "14f28ff9",
   "metadata": {},
   "outputs": [],
   "source": []
  },
  {
   "cell_type": "code",
   "execution_count": null,
   "id": "7f379f2c",
   "metadata": {},
   "outputs": [],
   "source": []
  },
  {
   "cell_type": "code",
   "execution_count": null,
   "id": "4b7d3027",
   "metadata": {
    "scrolled": false
   },
   "outputs": [],
   "source": [
    "import seaborn as sns\n",
    "import matplotlib.pyplot as plt\n",
    "\n",
    "\n",
    "# Set the colorblind color palette\n",
    "sns.set_palette(\"colorblind\")\n",
    "plt.figure(figsize=(12, 6))\n",
    "\n",
    "for model in data['model'].unique():\n",
    "    data_per_model = data[data['model'] == model]\n",
    "    for segment_type in ['line', 'sentence', 'region']:\n",
    "        # Filter the data by dataset and segment type\n",
    "        fig, ax = plt.subplots(figsize=(12, 6))\n",
    "\n",
    "        # Create the box plot\n",
    "        sns.boxplot(x=f'{segment_type}-ocr-noise-group', y=f'{segment_type}-lev-improvement', \n",
    "                    data=data_per_model, hue='dataset_name', palette='colorblind', ax=ax)\n",
    "\n",
    "        # Set the plot title and axis labels\n",
    "        plt.title(f'Levenshtein Distance Improvement for {segment_type.capitalize()} Segments ({model})')\n",
    "        plt.xlabel('Quality Bands')\n",
    "        plt.ylabel('Levenshtein Distance Improvement')\n",
    "        \n",
    "        plt.ylim((-0.5, 1.5))\n",
    "        # Show the plot\n",
    "        plt.show()\n",
    "\n"
   ]
  },
  {
   "cell_type": "code",
   "execution_count": null,
   "id": "038e4203",
   "metadata": {
    "scrolled": false
   },
   "outputs": [],
   "source": [
    "for model in data['dataset_name'].unique():\n",
    "    data_per_model = data[data['dataset_name'] == model]\n",
    "    for segment_type in ['line', 'sentence', 'region']:\n",
    "        # Filter the data by dataset and segment type\n",
    "        fig, ax = plt.subplots(figsize=(12, 6))\n",
    "\n",
    "        # Create the box plot\n",
    "        sns.boxplot(x=f'{segment_type}-ocr-noise-group', y=f'{segment_type}-lev-improvement', \n",
    "                    data=data_per_model, hue='model', palette='colorblind', ax=ax)\n",
    "\n",
    "        # Set the plot title and axis labels\n",
    "        plt.title(f'Levenshtein Distance Improvement for {segment_type.capitalize()} Segments ({model})')\n",
    "        plt.xlabel('Quality Bands')\n",
    "        plt.ylabel('Levenshtein Distance Improvement')\n",
    "        \n",
    "        plt.ylim((-0.2, 1.0))\n",
    "        # Show the plot\n",
    "        plt.show()\n",
    "\n"
   ]
  },
  {
   "cell_type": "code",
   "execution_count": null,
   "id": "0902d03b",
   "metadata": {
    "scrolled": false
   },
   "outputs": [],
   "source": []
  },
  {
   "cell_type": "code",
   "execution_count": null,
   "id": "98fe33cf",
   "metadata": {},
   "outputs": [],
   "source": [
    "import seaborn as sns\n",
    "import matplotlib.pyplot as plt\n",
    "\n",
    "\n",
    "# Set the colorblind color palette\n",
    "sns.set_palette(\"colorblind\")\n",
    "plt.figure(figsize=(12, 6))\n",
    "\n",
    "for result in results:\n",
    "    \n",
    "    dataset_name = result['dataset_name'].unique()[0]\n",
    "    \n",
    "    for segment_type in ['line', 'sentence', 'region']:\n",
    "        \n",
    "        #grouped_results = result.groupby([f\"{segment_type}-ocr-noise-group\", \"dataset_name\"]).size().reset_index(name=\"count\")\n",
    "        \n",
    "        grouped_results = result.groupby([f\"{segment_type}-ocr-noise-group\", \"dataset_name\"])[f\"{segment_type}-lev-improvement\"].mean().reset_index()\n",
    "\n",
    "        print(grouped_results.head())\n",
    "        \n",
    "        \n",
    "        fig, ax = plt.subplots(figsize=(12, 6))\n",
    "        \n",
    "        _ = sns.lineplot(x=f\"{segment_type}-ocr-noise-group\", y=f'{segment_type}-lev-improvement', hue='dataset_name',\n",
    "                 data=grouped_results, ax=ax, markers=True, linestyle='-', linewidth=2.5)\n",
    "\n",
    "\n",
    "        # Set plot labels\n",
    "        ax.set_xlabel(f\"{dataset_name} Ground Truth {segment_type.capitalize()}\")\n",
    "        ax.set_ylabel(f\"{dataset_name} {segment_type.capitalize()} Improvement\")\n",
    "        ax.set_title(f\"{dataset_name} Levenshtein Improvement for {segment_type.capitalize()} OCR Examples\")\n",
    "\n",
    "\n",
    "        # Show the plot\n",
    "        plt.show()\n",
    "\n"
   ]
  },
  {
   "cell_type": "code",
   "execution_count": null,
   "id": "449b6097",
   "metadata": {},
   "outputs": [],
   "source": []
  },
  {
   "cell_type": "code",
   "execution_count": null,
   "id": "31ff5018",
   "metadata": {},
   "outputs": [],
   "source": []
  },
  {
   "cell_type": "code",
   "execution_count": null,
   "id": "c7f60dfb",
   "metadata": {},
   "outputs": [],
   "source": []
  },
  {
   "cell_type": "code",
   "execution_count": null,
   "id": "d43e38d1",
   "metadata": {},
   "outputs": [],
   "source": []
  },
  {
   "cell_type": "code",
   "execution_count": null,
   "id": "4d142c1c",
   "metadata": {},
   "outputs": [],
   "source": []
  }
 ],
 "metadata": {
  "kernelspec": {
   "display_name": "Python 3 (ipykernel)",
   "language": "python",
   "name": "python3"
  },
  "language_info": {
   "codemirror_mode": {
    "name": "ipython",
    "version": 3
   },
   "file_extension": ".py",
   "mimetype": "text/x-python",
   "name": "python",
   "nbconvert_exporter": "python",
   "pygments_lexer": "ipython3",
   "version": "3.9.6"
  }
 },
 "nbformat": 4,
 "nbformat_minor": 5
}
